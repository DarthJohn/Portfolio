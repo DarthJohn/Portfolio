{
 "cells": [
  {
   "cell_type": "markdown",
   "id": "6573f4b7",
   "metadata": {},
   "source": [
    "**<font size = 6>Проверка гипотез по увеличению выручки в интернет-магазине — оцека результаты A/B теста</font>**"
   ]
  },
  {
   "cell_type": "markdown",
   "id": "46aec3ff",
   "metadata": {},
   "source": [
    "Клиент – крупный интернет-магазина. Отдел маркетинга подготовил список гипотез для увеличения выручки.\n",
    "Необходимо приоритизировать гипотезы, запустить A/B-тест и проанализировать результаты. \n",
    "\n",
    "В ходе анализа результатов A/B-теста необходимо:\n",
    "- в качестве ключевых метрик для текст использовать средний чек и среднее число заказов на пользователя;\n",
    "- проанализировать динамику кумулятивных метрик и принять решение о завершении теста или его продолжении;\n",
    "- определить есть статистически значимые различия между группами по ключевым метрикам и сделать вывод о том, есть ли у какой-то из групп преимущество."
   ]
  },
  {
   "cell_type": "markdown",
   "id": "d7a0f9f5",
   "metadata": {},
   "source": [
    "**<font size = 6>Краткие выводы</font>**"
   ]
  },
  {
   "cell_type": "markdown",
   "id": "d0d203b0",
   "metadata": {},
   "source": [
    "- после анализа результатов A/B теста было выявлено, что тест может быть остановлен;\n",
    "- статистически значимых различий между группами A и B по средним чекам не выявлено;\n",
    "- выявлены статистически значимые различия между группами A и B по числу покупок на человека – в группе B число покупок на человека больше;\n",
    "- необходимо внести изменения в порядок проведения A/B-тестов, чтобы ошибка с попаданием некоторых пользователей сразу в две группы в будущих тестах не повторялась."
   ]
  },
  {
   "cell_type": "markdown",
   "id": "1b7fbafd",
   "metadata": {},
   "source": [
    "**<font size = 6>Содержание проекта</font>**"
   ]
  },
  {
   "cell_type": "markdown",
   "id": "d4504219",
   "metadata": {},
   "source": [
    "- [1 Загрузка и предобработка данных](#1-Загрузка-и-предобработка-данных)\n",
    "- [1.1 Данные о гипотезах](#1.1-Данные-о-гипотезах)\n",
    "- [1.1.1 Загрузка данных о гипотезах](#1.1.1-Загрузка-данных-о-гипотезах)\n",
    "- [1.1.2 Структура данных о гипотезах](#1.1.2-Структура-данных-о-гипотезах)\n",
    "- [1.1.3 Типы данных в данных о гипотезах](#1.1.3-Типы-данных-в-данных-о-гипотезах)\n",
    "- [1.1.4 Приведение названий столбцов к Snake case](#1.1.4-Приведение-названий-столбцов-к-Snake-case)\n",
    "- [1.1.5 Пропуски и дубликаты в данных о гипотезах](#1.1.5-Пропуски-и-дубликаты-в-данных-о-гипотезах)\n",
    "- [1.2 Данные о заказах](#1.2-Данные-о-заказах)\n",
    "- [1.2.1 Загрузка данных о заказах](#1.2.1-Загрузка-данных-о-заказах)\n",
    "- [1.2.2 Структура данных о заказах](#1.2.2-Структура-данных-о-заказах)\n",
    "- [1.2.3 Типы данных в данных заказах](#1.2.3-Типы-данных-в-данных-заказах)\n",
    "- [1.2.4 Приведение названий столбцов к Snake case](#1.2.4-Приведение-названий-столбцов-к-Snake-case)\n",
    "- [1.2.5 Пропуски в данных о заказах](#1.2.5-Пропуски-в-данных-о-заказах)\n",
    "- [1.2.6 Дубликаты в данных о заказах](#1.2.6-Дубликаты-в-данных-о-заказах)\n",
    "- [1.2.7 Проверка корректности разделения пользователей по группам](#1.2.7-Проверка-корректности-разделения-пользователей-по-группам)\n",
    "- [1.3 Данные о посетителях](#1.3-Данные-о-посетителях)\n",
    "- [1.3.1 Загрузка данных о посетителях](#1.3.1-Загрузка-данных-о-посетителях)\n",
    "- [1.3.2 Структура данных о посетителях](#1.3.2-Структура-данных-о-посетителях)\n",
    "- [1.3.3 Типы данных в данных о посетителях](#1.3.3-Типы-данных-в-данных-о-посетителях)\n",
    "- [1.3.4 Пропуски в данных о посетителях](#1.3.4-Пропуски-в-данных-о-посетителях)\n",
    "- [1.3.5 Дубликаты в данных о посетителях](#1.3.5-Дубликаты-в-данных-о-посетителях)\n",
    "- [1.4 Выводы по разделу](#1.4-Выводы-по-разделу)\n",
    "- [2 Приоритизация гипотез](#2-Приоритизация-гипотез)\n",
    "- [2.1 ICE-приоритизация гипотез](#2.1-ICE-приоритизация-гипотез)\n",
    "- [2.2 RICE-приоритизация гипотез](#2.2-RICE-приоритизация-гипотез)\n",
    "- [2.3 Выводы по разделу](#2.3-Выводы-по-разделу)\n",
    "- [3 Анализ A/B-теста](#3-Анализ-A/B-теста)\n",
    "- [3.1 Анализ кумулятивной выручки по группам](#3.1-Анализ-кумулятивной-выручки-по-группам)\n",
    "- [3.2 Анализ среднего кумулятивного чека по группам](#3.2-Анализ-среднего-кумулятивного-чека-по-группам)\n",
    "- [3.3 Относительное изменения кумулятивного среднего чека группы B к группе A](#3.3-Относительное-изменения-кумулятивного-среднего-чека-группы-B-к-группе-A)\n",
    "- [3.4 График кумулятивного среднего количества заказов на посетителя по группам](#3.4-График-кумулятивного-среднего-количества-заказов-на-посетителя-по-группам)\n",
    "- [3.5 График относительного изменения кумулятивного среднего количества заказов на посетителя группы B к группе A](#3.5-График-относительного-изменения-кумулятивного-среднего-количества-заказов-на-посетителя-группы-B-к-группе-A)\n",
    "- [3.6 Точечный график количества заказов по пользователям](#3.6-Точечный-график-количества-заказов-по-пользователям)\n",
    "- [3.7 Определение границы аномальных пользователей по числу заказов](#3.7-Определение-границы-аномальных-пользователей-по-числу-заказов)\n",
    "- [3.8 Точечный график стоимостей заказов](#3.8-Точечный-график-стоимостей-заказов)\n",
    "- [3.9 Определение границы аномальных заказов по их стоимости](#3.9-Определение-границы-аномальных-заказов-по-их-стоимости)\n",
    "- [3.10 Cтатистическая значимость различий в среднем количестве заказов на посетителя между группами по «сырым» данным](#3.10-Cтатистическая-значимость-различий-в-среднем-количестве-заказов-на-посетителя-между-группами-по-«сырым»-данным)\n",
    "- [3.11 Статистическая значимость различий в среднем чеке заказа между группами по «сырым» данным](#3.11-Статистическая-значимость-различий-в-среднем-чеке-заказа-между-группами-по-«сырым»-данным)\n",
    "- [3.12 Статистическая значимость различий в среднем количестве заказов на посетителя между группами по «очищенным» данным](#3.12-Cтатистическая-значимость-различий-в-среднем-количестве-заказов-на-посетителя-между-группами-по-«очищенным»-данным)\n",
    "- [3.13 Статистическая значимость различий в среднем чеке заказа между группами по «очищенным» данным](#3.13-Статистическая-значимость-различий-в-среднем-чеке-заказа-между-группами-по-«очищенным»-данным)\n",
    "- [3.14 Оконачательные выводы по результатам теста](#3.14-Оконачательные-выводы-по-результатам-теста)\n",
    "- [4 Выводы](#4-Выводы)"
   ]
  },
  {
   "cell_type": "markdown",
   "id": "814553ea",
   "metadata": {},
   "source": [
    "# 1 Загрузка и предобработка данных"
   ]
  },
  {
   "cell_type": "markdown",
   "id": "57bede07",
   "metadata": {},
   "source": [
    "Импортируем необходимые библиотеки:"
   ]
  },
  {
   "cell_type": "code",
   "execution_count": 1,
   "id": "e69f2b6a",
   "metadata": {},
   "outputs": [],
   "source": [
    "import pandas as pd\n",
    "import numpy as np\n",
    "import datetime as dt\n",
    "from matplotlib import pyplot as plt\n",
    "from scipy import stats as st"
   ]
  },
  {
   "cell_type": "markdown",
   "id": "04fa61eb",
   "metadata": {},
   "source": [
    "## 1.1 Данные о гипотезах"
   ]
  },
  {
   "cell_type": "markdown",
   "id": "29628590",
   "metadata": {},
   "source": [
    "### 1.1.1 Загрузка данных о гипотезах"
   ]
  },
  {
   "cell_type": "code",
   "execution_count": 2,
   "id": "4471f3fd",
   "metadata": {},
   "outputs": [
    {
     "data": {
      "text/html": [
       "<div>\n",
       "<style scoped>\n",
       "    .dataframe tbody tr th:only-of-type {\n",
       "        vertical-align: middle;\n",
       "    }\n",
       "\n",
       "    .dataframe tbody tr th {\n",
       "        vertical-align: top;\n",
       "    }\n",
       "\n",
       "    .dataframe thead th {\n",
       "        text-align: right;\n",
       "    }\n",
       "</style>\n",
       "<table border=\"1\" class=\"dataframe\">\n",
       "  <thead>\n",
       "    <tr style=\"text-align: right;\">\n",
       "      <th></th>\n",
       "      <th>Hypothesis</th>\n",
       "      <th>Reach</th>\n",
       "      <th>Impact</th>\n",
       "      <th>Confidence</th>\n",
       "      <th>Efforts</th>\n",
       "    </tr>\n",
       "  </thead>\n",
       "  <tbody>\n",
       "    <tr>\n",
       "      <th>0</th>\n",
       "      <td>Добавить два новых канала привлечения трафика,...</td>\n",
       "      <td>3</td>\n",
       "      <td>10</td>\n",
       "      <td>8</td>\n",
       "      <td>6</td>\n",
       "    </tr>\n",
       "    <tr>\n",
       "      <th>1</th>\n",
       "      <td>Запустить собственную службу доставки, что сок...</td>\n",
       "      <td>2</td>\n",
       "      <td>5</td>\n",
       "      <td>4</td>\n",
       "      <td>10</td>\n",
       "    </tr>\n",
       "    <tr>\n",
       "      <th>2</th>\n",
       "      <td>Добавить блоки рекомендаций товаров на сайт ин...</td>\n",
       "      <td>8</td>\n",
       "      <td>3</td>\n",
       "      <td>7</td>\n",
       "      <td>3</td>\n",
       "    </tr>\n",
       "    <tr>\n",
       "      <th>3</th>\n",
       "      <td>Изменить структура категорий, что увеличит кон...</td>\n",
       "      <td>8</td>\n",
       "      <td>3</td>\n",
       "      <td>3</td>\n",
       "      <td>8</td>\n",
       "    </tr>\n",
       "    <tr>\n",
       "      <th>4</th>\n",
       "      <td>Изменить цвет фона главной страницы, чтобы уве...</td>\n",
       "      <td>3</td>\n",
       "      <td>1</td>\n",
       "      <td>1</td>\n",
       "      <td>1</td>\n",
       "    </tr>\n",
       "    <tr>\n",
       "      <th>5</th>\n",
       "      <td>Добавить страницу отзывов клиентов о магазине,...</td>\n",
       "      <td>3</td>\n",
       "      <td>2</td>\n",
       "      <td>2</td>\n",
       "      <td>3</td>\n",
       "    </tr>\n",
       "    <tr>\n",
       "      <th>6</th>\n",
       "      <td>Показать на главной странице баннеры с актуаль...</td>\n",
       "      <td>5</td>\n",
       "      <td>3</td>\n",
       "      <td>8</td>\n",
       "      <td>3</td>\n",
       "    </tr>\n",
       "    <tr>\n",
       "      <th>7</th>\n",
       "      <td>Добавить форму подписки на все основные страни...</td>\n",
       "      <td>10</td>\n",
       "      <td>7</td>\n",
       "      <td>8</td>\n",
       "      <td>5</td>\n",
       "    </tr>\n",
       "    <tr>\n",
       "      <th>8</th>\n",
       "      <td>Запустить акцию, дающую скидку на товар в день...</td>\n",
       "      <td>1</td>\n",
       "      <td>9</td>\n",
       "      <td>9</td>\n",
       "      <td>5</td>\n",
       "    </tr>\n",
       "  </tbody>\n",
       "</table>\n",
       "</div>"
      ],
      "text/plain": [
       "                                          Hypothesis  Reach  Impact   \n",
       "0  Добавить два новых канала привлечения трафика,...      3      10  \\\n",
       "1  Запустить собственную службу доставки, что сок...      2       5   \n",
       "2  Добавить блоки рекомендаций товаров на сайт ин...      8       3   \n",
       "3  Изменить структура категорий, что увеличит кон...      8       3   \n",
       "4  Изменить цвет фона главной страницы, чтобы уве...      3       1   \n",
       "5  Добавить страницу отзывов клиентов о магазине,...      3       2   \n",
       "6  Показать на главной странице баннеры с актуаль...      5       3   \n",
       "7  Добавить форму подписки на все основные страни...     10       7   \n",
       "8  Запустить акцию, дающую скидку на товар в день...      1       9   \n",
       "\n",
       "   Confidence  Efforts  \n",
       "0           8        6  \n",
       "1           4       10  \n",
       "2           7        3  \n",
       "3           3        8  \n",
       "4           1        1  \n",
       "5           2        3  \n",
       "6           8        3  \n",
       "7           8        5  \n",
       "8           9        5  "
      ]
     },
     "execution_count": 2,
     "metadata": {},
     "output_type": "execute_result"
    }
   ],
   "source": [
    "try:\n",
    "    hypothesis = pd.read_csv('hypothesis.csv')\n",
    "except:\n",
    "    hypothesis = pd.read_csv('https://code.s3.yandex.net/datasets/hypothesis.csv')\n",
    "\n",
    "hypothesis"
   ]
  },
  {
   "cell_type": "markdown",
   "id": "47475b76",
   "metadata": {},
   "source": [
    "### 1.1.2 Структура данных о гипотезах"
   ]
  },
  {
   "cell_type": "markdown",
   "id": "de67e4ef",
   "metadata": {},
   "source": [
    "Столбцы:\n",
    "- Hypothesis — краткое описание гипотезы;\n",
    "- Reach — охват пользователей по 10-балльной шкале;\n",
    "- Impact — влияние на пользователей по 10-балльной шкале;\n",
    "- Confidence — уверенность в гипотезе по 10-балльной шкале;\n",
    "- Efforts — затраты ресурсов на проверку гипотезы по 10-балльной шкале."
   ]
  },
  {
   "cell_type": "markdown",
   "id": "f6041343",
   "metadata": {},
   "source": [
    "### 1.1.3 Типы данных в данных о гипотезах"
   ]
  },
  {
   "cell_type": "code",
   "execution_count": 3,
   "id": "b86fd1d3",
   "metadata": {},
   "outputs": [
    {
     "name": "stdout",
     "output_type": "stream",
     "text": [
      "<class 'pandas.core.frame.DataFrame'>\n",
      "RangeIndex: 9 entries, 0 to 8\n",
      "Data columns (total 5 columns):\n",
      " #   Column      Non-Null Count  Dtype \n",
      "---  ------      --------------  ----- \n",
      " 0   Hypothesis  9 non-null      object\n",
      " 1   Reach       9 non-null      int64 \n",
      " 2   Impact      9 non-null      int64 \n",
      " 3   Confidence  9 non-null      int64 \n",
      " 4   Efforts     9 non-null      int64 \n",
      "dtypes: int64(4), object(1)\n",
      "memory usage: 488.0+ bytes\n"
     ]
    }
   ],
   "source": [
    "hypothesis.info()"
   ]
  },
  {
   "cell_type": "markdown",
   "id": "733c76eb",
   "metadata": {},
   "source": [
    "Все данные, кроме формулировки самой гипотезы, имеют тип int64. Необходимости изменять типы данных нет."
   ]
  },
  {
   "cell_type": "markdown",
   "id": "2dd425c2",
   "metadata": {},
   "source": [
    "### 1.1.4 Приведение названий столбцов к Snake case"
   ]
  },
  {
   "cell_type": "code",
   "execution_count": 4,
   "id": "63a41799",
   "metadata": {},
   "outputs": [
    {
     "data": {
      "text/html": [
       "<div>\n",
       "<style scoped>\n",
       "    .dataframe tbody tr th:only-of-type {\n",
       "        vertical-align: middle;\n",
       "    }\n",
       "\n",
       "    .dataframe tbody tr th {\n",
       "        vertical-align: top;\n",
       "    }\n",
       "\n",
       "    .dataframe thead th {\n",
       "        text-align: right;\n",
       "    }\n",
       "</style>\n",
       "<table border=\"1\" class=\"dataframe\">\n",
       "  <thead>\n",
       "    <tr style=\"text-align: right;\">\n",
       "      <th></th>\n",
       "      <th>hypothesis</th>\n",
       "      <th>reach</th>\n",
       "      <th>impact</th>\n",
       "      <th>confidence</th>\n",
       "      <th>efforts</th>\n",
       "    </tr>\n",
       "  </thead>\n",
       "  <tbody>\n",
       "    <tr>\n",
       "      <th>0</th>\n",
       "      <td>Добавить два новых канала привлечения трафика,...</td>\n",
       "      <td>3</td>\n",
       "      <td>10</td>\n",
       "      <td>8</td>\n",
       "      <td>6</td>\n",
       "    </tr>\n",
       "    <tr>\n",
       "      <th>1</th>\n",
       "      <td>Запустить собственную службу доставки, что сок...</td>\n",
       "      <td>2</td>\n",
       "      <td>5</td>\n",
       "      <td>4</td>\n",
       "      <td>10</td>\n",
       "    </tr>\n",
       "    <tr>\n",
       "      <th>2</th>\n",
       "      <td>Добавить блоки рекомендаций товаров на сайт ин...</td>\n",
       "      <td>8</td>\n",
       "      <td>3</td>\n",
       "      <td>7</td>\n",
       "      <td>3</td>\n",
       "    </tr>\n",
       "    <tr>\n",
       "      <th>3</th>\n",
       "      <td>Изменить структура категорий, что увеличит кон...</td>\n",
       "      <td>8</td>\n",
       "      <td>3</td>\n",
       "      <td>3</td>\n",
       "      <td>8</td>\n",
       "    </tr>\n",
       "    <tr>\n",
       "      <th>4</th>\n",
       "      <td>Изменить цвет фона главной страницы, чтобы уве...</td>\n",
       "      <td>3</td>\n",
       "      <td>1</td>\n",
       "      <td>1</td>\n",
       "      <td>1</td>\n",
       "    </tr>\n",
       "    <tr>\n",
       "      <th>5</th>\n",
       "      <td>Добавить страницу отзывов клиентов о магазине,...</td>\n",
       "      <td>3</td>\n",
       "      <td>2</td>\n",
       "      <td>2</td>\n",
       "      <td>3</td>\n",
       "    </tr>\n",
       "    <tr>\n",
       "      <th>6</th>\n",
       "      <td>Показать на главной странице баннеры с актуаль...</td>\n",
       "      <td>5</td>\n",
       "      <td>3</td>\n",
       "      <td>8</td>\n",
       "      <td>3</td>\n",
       "    </tr>\n",
       "    <tr>\n",
       "      <th>7</th>\n",
       "      <td>Добавить форму подписки на все основные страни...</td>\n",
       "      <td>10</td>\n",
       "      <td>7</td>\n",
       "      <td>8</td>\n",
       "      <td>5</td>\n",
       "    </tr>\n",
       "    <tr>\n",
       "      <th>8</th>\n",
       "      <td>Запустить акцию, дающую скидку на товар в день...</td>\n",
       "      <td>1</td>\n",
       "      <td>9</td>\n",
       "      <td>9</td>\n",
       "      <td>5</td>\n",
       "    </tr>\n",
       "  </tbody>\n",
       "</table>\n",
       "</div>"
      ],
      "text/plain": [
       "                                          hypothesis  reach  impact   \n",
       "0  Добавить два новых канала привлечения трафика,...      3      10  \\\n",
       "1  Запустить собственную службу доставки, что сок...      2       5   \n",
       "2  Добавить блоки рекомендаций товаров на сайт ин...      8       3   \n",
       "3  Изменить структура категорий, что увеличит кон...      8       3   \n",
       "4  Изменить цвет фона главной страницы, чтобы уве...      3       1   \n",
       "5  Добавить страницу отзывов клиентов о магазине,...      3       2   \n",
       "6  Показать на главной странице баннеры с актуаль...      5       3   \n",
       "7  Добавить форму подписки на все основные страни...     10       7   \n",
       "8  Запустить акцию, дающую скидку на товар в день...      1       9   \n",
       "\n",
       "   confidence  efforts  \n",
       "0           8        6  \n",
       "1           4       10  \n",
       "2           7        3  \n",
       "3           3        8  \n",
       "4           1        1  \n",
       "5           2        3  \n",
       "6           8        3  \n",
       "7           8        5  \n",
       "8           9        5  "
      ]
     },
     "execution_count": 4,
     "metadata": {},
     "output_type": "execute_result"
    }
   ],
   "source": [
    "hypothesis.columns = hypothesis.columns.str.lower()\n",
    "hypothesis"
   ]
  },
  {
   "cell_type": "markdown",
   "id": "a872be2f",
   "metadata": {},
   "source": [
    "### 1.1.5 Пропуски и дубликаты в данных о гипотезах"
   ]
  },
  {
   "cell_type": "markdown",
   "id": "945cb31d",
   "metadata": {},
   "source": [
    "Датасет с информацией о гипотезах достаточно мал, чтобы можно было визуально оценить отсутствие в нём пропусков и дубликатов.\n",
    "\n",
    "Пропуски и дубликаты отсутствуют. Необходимости в дополнительной предобработке нет.\n"
   ]
  },
  {
   "cell_type": "markdown",
   "id": "574df444",
   "metadata": {},
   "source": [
    "## 1.2 Данные о заказах"
   ]
  },
  {
   "cell_type": "markdown",
   "id": "493a13b5",
   "metadata": {},
   "source": [
    "### 1.2.1 Загрузка данных о заказах"
   ]
  },
  {
   "cell_type": "code",
   "execution_count": 5,
   "id": "45e22589",
   "metadata": {},
   "outputs": [
    {
     "data": {
      "text/html": [
       "<div>\n",
       "<style scoped>\n",
       "    .dataframe tbody tr th:only-of-type {\n",
       "        vertical-align: middle;\n",
       "    }\n",
       "\n",
       "    .dataframe tbody tr th {\n",
       "        vertical-align: top;\n",
       "    }\n",
       "\n",
       "    .dataframe thead th {\n",
       "        text-align: right;\n",
       "    }\n",
       "</style>\n",
       "<table border=\"1\" class=\"dataframe\">\n",
       "  <thead>\n",
       "    <tr style=\"text-align: right;\">\n",
       "      <th></th>\n",
       "      <th>transactionId</th>\n",
       "      <th>visitorId</th>\n",
       "      <th>date</th>\n",
       "      <th>revenue</th>\n",
       "      <th>group</th>\n",
       "    </tr>\n",
       "  </thead>\n",
       "  <tbody>\n",
       "    <tr>\n",
       "      <th>0</th>\n",
       "      <td>3667963787</td>\n",
       "      <td>3312258926</td>\n",
       "      <td>2019-08-15</td>\n",
       "      <td>1650</td>\n",
       "      <td>B</td>\n",
       "    </tr>\n",
       "    <tr>\n",
       "      <th>1</th>\n",
       "      <td>2804400009</td>\n",
       "      <td>3642806036</td>\n",
       "      <td>2019-08-15</td>\n",
       "      <td>730</td>\n",
       "      <td>B</td>\n",
       "    </tr>\n",
       "    <tr>\n",
       "      <th>2</th>\n",
       "      <td>2961555356</td>\n",
       "      <td>4069496402</td>\n",
       "      <td>2019-08-15</td>\n",
       "      <td>400</td>\n",
       "      <td>A</td>\n",
       "    </tr>\n",
       "    <tr>\n",
       "      <th>3</th>\n",
       "      <td>3797467345</td>\n",
       "      <td>1196621759</td>\n",
       "      <td>2019-08-15</td>\n",
       "      <td>9759</td>\n",
       "      <td>B</td>\n",
       "    </tr>\n",
       "    <tr>\n",
       "      <th>4</th>\n",
       "      <td>2282983706</td>\n",
       "      <td>2322279887</td>\n",
       "      <td>2019-08-15</td>\n",
       "      <td>2308</td>\n",
       "      <td>B</td>\n",
       "    </tr>\n",
       "  </tbody>\n",
       "</table>\n",
       "</div>"
      ],
      "text/plain": [
       "   transactionId   visitorId        date  revenue group\n",
       "0     3667963787  3312258926  2019-08-15     1650     B\n",
       "1     2804400009  3642806036  2019-08-15      730     B\n",
       "2     2961555356  4069496402  2019-08-15      400     A\n",
       "3     3797467345  1196621759  2019-08-15     9759     B\n",
       "4     2282983706  2322279887  2019-08-15     2308     B"
      ]
     },
     "execution_count": 5,
     "metadata": {},
     "output_type": "execute_result"
    }
   ],
   "source": [
    "try:\n",
    "    orders = pd.read_csv('orders.csv')\n",
    "except:\n",
    "    orders = pd.read_csv('https://code.s3.yandex.net/datasets/orders.csv')\n",
    "\n",
    "orders.head()"
   ]
  },
  {
   "cell_type": "markdown",
   "id": "2a252907",
   "metadata": {},
   "source": [
    "### 1.2.2 Структура данных о заказах"
   ]
  },
  {
   "cell_type": "markdown",
   "id": "a9fe0f63",
   "metadata": {},
   "source": [
    "Столбцы:\n",
    "- transactionId — идентификатор заказа;\n",
    "- visitorId — идентификатор пользователя, совершившего заказ;\n",
    "- date — дата, когда был совершён заказ;\n",
    "- revenue — выручка заказа;\n",
    "- group — группа A/B-теста, в которую попал заказ."
   ]
  },
  {
   "cell_type": "markdown",
   "id": "4daa4589",
   "metadata": {},
   "source": [
    "### 1.2.3 Типы данных в данных заказах"
   ]
  },
  {
   "cell_type": "code",
   "execution_count": 6,
   "id": "c0794cd0",
   "metadata": {},
   "outputs": [
    {
     "name": "stdout",
     "output_type": "stream",
     "text": [
      "<class 'pandas.core.frame.DataFrame'>\n",
      "RangeIndex: 1197 entries, 0 to 1196\n",
      "Data columns (total 5 columns):\n",
      " #   Column         Non-Null Count  Dtype \n",
      "---  ------         --------------  ----- \n",
      " 0   transactionId  1197 non-null   int64 \n",
      " 1   visitorId      1197 non-null   int64 \n",
      " 2   date           1197 non-null   object\n",
      " 3   revenue        1197 non-null   int64 \n",
      " 4   group          1197 non-null   object\n",
      "dtypes: int64(3), object(2)\n",
      "memory usage: 46.9+ KB\n"
     ]
    }
   ],
   "source": [
    "orders.info()"
   ]
  },
  {
   "cell_type": "markdown",
   "id": "a4b441fb",
   "metadata": {},
   "source": [
    "Данные о дате заказа имеют формат object. Приведём данные к типу datetime."
   ]
  },
  {
   "cell_type": "code",
   "execution_count": 7,
   "id": "b6c87a0c",
   "metadata": {},
   "outputs": [],
   "source": [
    "orders['date'] = orders['date'].map(lambda x: dt.datetime.strptime(x, '%Y-%m-%d'))"
   ]
  },
  {
   "cell_type": "code",
   "execution_count": 8,
   "id": "6b28ff1f",
   "metadata": {},
   "outputs": [
    {
     "name": "stdout",
     "output_type": "stream",
     "text": [
      "<class 'pandas.core.frame.DataFrame'>\n",
      "RangeIndex: 1197 entries, 0 to 1196\n",
      "Data columns (total 5 columns):\n",
      " #   Column         Non-Null Count  Dtype         \n",
      "---  ------         --------------  -----         \n",
      " 0   transactionId  1197 non-null   int64         \n",
      " 1   visitorId      1197 non-null   int64         \n",
      " 2   date           1197 non-null   datetime64[ns]\n",
      " 3   revenue        1197 non-null   int64         \n",
      " 4   group          1197 non-null   object        \n",
      "dtypes: datetime64[ns](1), int64(3), object(1)\n",
      "memory usage: 46.9+ KB\n"
     ]
    }
   ],
   "source": [
    "orders.info()"
   ]
  },
  {
   "cell_type": "markdown",
   "id": "6106fd78",
   "metadata": {},
   "source": [
    "Выполнено преобразование данных столбца 'date' к формату datetime."
   ]
  },
  {
   "cell_type": "markdown",
   "id": "6933bd93",
   "metadata": {},
   "source": [
    "### 1.2.4 Приведение названий столбцов к Snake case"
   ]
  },
  {
   "cell_type": "code",
   "execution_count": 9,
   "id": "4cc9b54a",
   "metadata": {},
   "outputs": [
    {
     "data": {
      "text/html": [
       "<div>\n",
       "<style scoped>\n",
       "    .dataframe tbody tr th:only-of-type {\n",
       "        vertical-align: middle;\n",
       "    }\n",
       "\n",
       "    .dataframe tbody tr th {\n",
       "        vertical-align: top;\n",
       "    }\n",
       "\n",
       "    .dataframe thead th {\n",
       "        text-align: right;\n",
       "    }\n",
       "</style>\n",
       "<table border=\"1\" class=\"dataframe\">\n",
       "  <thead>\n",
       "    <tr style=\"text-align: right;\">\n",
       "      <th></th>\n",
       "      <th>transaction_id</th>\n",
       "      <th>visitor_id</th>\n",
       "      <th>date</th>\n",
       "      <th>revenue</th>\n",
       "      <th>group</th>\n",
       "    </tr>\n",
       "  </thead>\n",
       "  <tbody>\n",
       "    <tr>\n",
       "      <th>0</th>\n",
       "      <td>3667963787</td>\n",
       "      <td>3312258926</td>\n",
       "      <td>2019-08-15</td>\n",
       "      <td>1650</td>\n",
       "      <td>B</td>\n",
       "    </tr>\n",
       "    <tr>\n",
       "      <th>1</th>\n",
       "      <td>2804400009</td>\n",
       "      <td>3642806036</td>\n",
       "      <td>2019-08-15</td>\n",
       "      <td>730</td>\n",
       "      <td>B</td>\n",
       "    </tr>\n",
       "    <tr>\n",
       "      <th>2</th>\n",
       "      <td>2961555356</td>\n",
       "      <td>4069496402</td>\n",
       "      <td>2019-08-15</td>\n",
       "      <td>400</td>\n",
       "      <td>A</td>\n",
       "    </tr>\n",
       "    <tr>\n",
       "      <th>3</th>\n",
       "      <td>3797467345</td>\n",
       "      <td>1196621759</td>\n",
       "      <td>2019-08-15</td>\n",
       "      <td>9759</td>\n",
       "      <td>B</td>\n",
       "    </tr>\n",
       "    <tr>\n",
       "      <th>4</th>\n",
       "      <td>2282983706</td>\n",
       "      <td>2322279887</td>\n",
       "      <td>2019-08-15</td>\n",
       "      <td>2308</td>\n",
       "      <td>B</td>\n",
       "    </tr>\n",
       "  </tbody>\n",
       "</table>\n",
       "</div>"
      ],
      "text/plain": [
       "   transaction_id  visitor_id       date  revenue group\n",
       "0      3667963787  3312258926 2019-08-15     1650     B\n",
       "1      2804400009  3642806036 2019-08-15      730     B\n",
       "2      2961555356  4069496402 2019-08-15      400     A\n",
       "3      3797467345  1196621759 2019-08-15     9759     B\n",
       "4      2282983706  2322279887 2019-08-15     2308     B"
      ]
     },
     "execution_count": 9,
     "metadata": {},
     "output_type": "execute_result"
    }
   ],
   "source": [
    "orders = orders.rename(columns={'transactionId': 'transaction_id', 'visitorId': 'visitor_id'})\n",
    "orders.head()"
   ]
  },
  {
   "cell_type": "markdown",
   "id": "b16e4d49",
   "metadata": {},
   "source": [
    "### 1.2.5 Пропуски в данных о заказах"
   ]
  },
  {
   "cell_type": "markdown",
   "id": "5d749e56",
   "metadata": {},
   "source": [
    "Посчитаем число пропусков во всех столбцах"
   ]
  },
  {
   "cell_type": "code",
   "execution_count": 10,
   "id": "ab9f82e7",
   "metadata": {},
   "outputs": [
    {
     "data": {
      "text/plain": [
       "transaction_id    0\n",
       "visitor_id        0\n",
       "date              0\n",
       "revenue           0\n",
       "group             0\n",
       "dtype: int64"
      ]
     },
     "execution_count": 10,
     "metadata": {},
     "output_type": "execute_result"
    }
   ],
   "source": [
    "orders.isna().sum()"
   ]
  },
  {
   "cell_type": "markdown",
   "id": "6216a7b4",
   "metadata": {},
   "source": [
    "Пропуски отсутствуют."
   ]
  },
  {
   "cell_type": "markdown",
   "id": "88425fa1",
   "metadata": {},
   "source": [
    "### 1.2.6 Дубликаты в данных о заказах"
   ]
  },
  {
   "cell_type": "code",
   "execution_count": 11,
   "id": "28fe167e",
   "metadata": {},
   "outputs": [
    {
     "data": {
      "text/plain": [
       "0"
      ]
     },
     "execution_count": 11,
     "metadata": {},
     "output_type": "execute_result"
    }
   ],
   "source": [
    "orders.duplicated().sum()"
   ]
  },
  {
   "cell_type": "markdown",
   "id": "b4cbbbc8",
   "metadata": {},
   "source": [
    "Дубликаты в данных о заказах отсутствуют."
   ]
  },
  {
   "cell_type": "markdown",
   "id": "900f7271",
   "metadata": {},
   "source": [
    "### 1.2.7 Проверка корректности разделения пользователей по группам"
   ]
  },
  {
   "cell_type": "markdown",
   "id": "7bfc2b3e",
   "metadata": {},
   "source": [
    "Дополнительно проверим корректно ли было произведено разбиение на группы пользователей. Возможно какие-то пользователи попали в обе группы сразу."
   ]
  },
  {
   "cell_type": "code",
   "execution_count": 12,
   "id": "1be54055",
   "metadata": {},
   "outputs": [
    {
     "data": {
      "text/plain": [
       "58"
      ]
     },
     "execution_count": 12,
     "metadata": {},
     "output_type": "execute_result"
    }
   ],
   "source": [
    "visitors_id_double = (orders\n",
    "                      .query('group == \"A\"')[orders.query('group == \"A\"')['visitor_id']\n",
    "                                             .isin(orders.query('group == \"B\"')['visitor_id'])]['visitor_id']\n",
    "                     ).drop_duplicates().tolist()\n",
    "len(visitors_id_double)"
   ]
  },
  {
   "cell_type": "markdown",
   "id": "79fb1e88",
   "metadata": {},
   "source": [
    "Всего в обе группы попали 58 пользователей. Чтобы узнать много это или нет посчитаем общее число уникальных пользователей, учавствовавших в тесте."
   ]
  },
  {
   "cell_type": "code",
   "execution_count": 13,
   "id": "31443f02",
   "metadata": {},
   "outputs": [
    {
     "name": "stdout",
     "output_type": "stream",
     "text": [
      "Общее число пользователей, принявших участие в тесте: 1031\n",
      "Доля пользователей, попавших одновременно в обе группы: 5.6%\n"
     ]
    }
   ],
   "source": [
    "print('Общее число пользователей, принявших участие в тесте: {0}'.format(orders['visitor_id'].nunique()))\n",
    "print('Доля пользователей, попавших одновременно в обе группы: {0:.2}%'\n",
    "      .format(len(visitors_id_double)*100/orders['visitor_id'].nunique()))"
   ]
  },
  {
   "cell_type": "markdown",
   "id": "bf0c9e9d",
   "metadata": {},
   "source": [
    "5.6% – достаточно значительное число пользователей, поэтому следует провести весь необходимый анализ для исходных данных и данных, очищенных от пользователей, попавших сразу в обе группы.\n",
    "\n",
    "При этом необходимо учитывать, что из таблицы visitors удалить данные об этих пользователях мы не можем."
   ]
  },
  {
   "cell_type": "markdown",
   "id": "d90cc616",
   "metadata": {},
   "source": [
    "Отбросим из данных о заказах данные пользователей, которые попали в обе группы."
   ]
  },
  {
   "cell_type": "code",
   "execution_count": 14,
   "id": "83ad2589",
   "metadata": {},
   "outputs": [],
   "source": [
    "orders = orders.query('visitor_id not in @visitors_id_double')"
   ]
  },
  {
   "cell_type": "markdown",
   "id": "98bca382",
   "metadata": {},
   "source": [
    "## 1.3 Данные о посетителях"
   ]
  },
  {
   "cell_type": "markdown",
   "id": "d03d184f",
   "metadata": {},
   "source": [
    "### 1.3.1 Загрузка данных о посетителях"
   ]
  },
  {
   "cell_type": "code",
   "execution_count": 15,
   "id": "8bc20c40",
   "metadata": {},
   "outputs": [
    {
     "data": {
      "text/html": [
       "<div>\n",
       "<style scoped>\n",
       "    .dataframe tbody tr th:only-of-type {\n",
       "        vertical-align: middle;\n",
       "    }\n",
       "\n",
       "    .dataframe tbody tr th {\n",
       "        vertical-align: top;\n",
       "    }\n",
       "\n",
       "    .dataframe thead th {\n",
       "        text-align: right;\n",
       "    }\n",
       "</style>\n",
       "<table border=\"1\" class=\"dataframe\">\n",
       "  <thead>\n",
       "    <tr style=\"text-align: right;\">\n",
       "      <th></th>\n",
       "      <th>date</th>\n",
       "      <th>group</th>\n",
       "      <th>visitors</th>\n",
       "    </tr>\n",
       "  </thead>\n",
       "  <tbody>\n",
       "    <tr>\n",
       "      <th>0</th>\n",
       "      <td>2019-08-01</td>\n",
       "      <td>A</td>\n",
       "      <td>719</td>\n",
       "    </tr>\n",
       "    <tr>\n",
       "      <th>1</th>\n",
       "      <td>2019-08-02</td>\n",
       "      <td>A</td>\n",
       "      <td>619</td>\n",
       "    </tr>\n",
       "    <tr>\n",
       "      <th>2</th>\n",
       "      <td>2019-08-03</td>\n",
       "      <td>A</td>\n",
       "      <td>507</td>\n",
       "    </tr>\n",
       "    <tr>\n",
       "      <th>3</th>\n",
       "      <td>2019-08-04</td>\n",
       "      <td>A</td>\n",
       "      <td>717</td>\n",
       "    </tr>\n",
       "    <tr>\n",
       "      <th>4</th>\n",
       "      <td>2019-08-05</td>\n",
       "      <td>A</td>\n",
       "      <td>756</td>\n",
       "    </tr>\n",
       "  </tbody>\n",
       "</table>\n",
       "</div>"
      ],
      "text/plain": [
       "         date group  visitors\n",
       "0  2019-08-01     A       719\n",
       "1  2019-08-02     A       619\n",
       "2  2019-08-03     A       507\n",
       "3  2019-08-04     A       717\n",
       "4  2019-08-05     A       756"
      ]
     },
     "execution_count": 15,
     "metadata": {},
     "output_type": "execute_result"
    }
   ],
   "source": [
    "try:\n",
    "    visitors = pd.read_csv('visitors.csv')\n",
    "except:\n",
    "    visitors = pd.read_csv('https://code.s3.yandex.net/datasets/visitors.csv')\n",
    "    \n",
    "visitors.head()"
   ]
  },
  {
   "cell_type": "markdown",
   "id": "f94f258e",
   "metadata": {},
   "source": [
    "### 1.3.2 Структура данных о посетителях"
   ]
  },
  {
   "cell_type": "markdown",
   "id": "3cd9699d",
   "metadata": {},
   "source": [
    "Столбцы:\n",
    "- date — дата;\n",
    "- group — группа A/B-теста;\n",
    "- visitors — количество пользователей в указанную дату в указанной группе A/B-теста."
   ]
  },
  {
   "cell_type": "code",
   "execution_count": 16,
   "id": "4ad6b92a",
   "metadata": {},
   "outputs": [
    {
     "name": "stdout",
     "output_type": "stream",
     "text": [
      "<class 'pandas.core.frame.DataFrame'>\n",
      "RangeIndex: 62 entries, 0 to 61\n",
      "Data columns (total 3 columns):\n",
      " #   Column    Non-Null Count  Dtype \n",
      "---  ------    --------------  ----- \n",
      " 0   date      62 non-null     object\n",
      " 1   group     62 non-null     object\n",
      " 2   visitors  62 non-null     int64 \n",
      "dtypes: int64(1), object(2)\n",
      "memory usage: 1.6+ KB\n"
     ]
    }
   ],
   "source": [
    "visitors.info()"
   ]
  },
  {
   "cell_type": "markdown",
   "id": "7661666c",
   "metadata": {},
   "source": [
    "### 1.3.3 Типы данных в данных о посетителях"
   ]
  },
  {
   "cell_type": "code",
   "execution_count": 17,
   "id": "1dfcd563",
   "metadata": {},
   "outputs": [
    {
     "name": "stdout",
     "output_type": "stream",
     "text": [
      "<class 'pandas.core.frame.DataFrame'>\n",
      "RangeIndex: 62 entries, 0 to 61\n",
      "Data columns (total 3 columns):\n",
      " #   Column    Non-Null Count  Dtype \n",
      "---  ------    --------------  ----- \n",
      " 0   date      62 non-null     object\n",
      " 1   group     62 non-null     object\n",
      " 2   visitors  62 non-null     int64 \n",
      "dtypes: int64(1), object(2)\n",
      "memory usage: 1.6+ KB\n"
     ]
    }
   ],
   "source": [
    "visitors.info()"
   ]
  },
  {
   "cell_type": "markdown",
   "id": "c1968d7f",
   "metadata": {},
   "source": [
    "Данные о дате посещения имеют формат object. Приведём данные к типу datetime."
   ]
  },
  {
   "cell_type": "code",
   "execution_count": 18,
   "id": "701658b5",
   "metadata": {},
   "outputs": [],
   "source": [
    "visitors['date'] = visitors['date'].map(lambda x: dt.datetime.strptime(x, '%Y-%m-%d'))"
   ]
  },
  {
   "cell_type": "code",
   "execution_count": 19,
   "id": "07db4d10",
   "metadata": {},
   "outputs": [
    {
     "name": "stdout",
     "output_type": "stream",
     "text": [
      "<class 'pandas.core.frame.DataFrame'>\n",
      "RangeIndex: 62 entries, 0 to 61\n",
      "Data columns (total 3 columns):\n",
      " #   Column    Non-Null Count  Dtype         \n",
      "---  ------    --------------  -----         \n",
      " 0   date      62 non-null     datetime64[ns]\n",
      " 1   group     62 non-null     object        \n",
      " 2   visitors  62 non-null     int64         \n",
      "dtypes: datetime64[ns](1), int64(1), object(1)\n",
      "memory usage: 1.6+ KB\n"
     ]
    }
   ],
   "source": [
    "visitors.info()"
   ]
  },
  {
   "cell_type": "markdown",
   "id": "94bb1bc5",
   "metadata": {},
   "source": [
    "Выполнено преобразование данных столбца 'date' к формату datetime."
   ]
  },
  {
   "cell_type": "markdown",
   "id": "89b1529b",
   "metadata": {},
   "source": [
    "### 1.3.4 Пропуски в данных о посетителях"
   ]
  },
  {
   "cell_type": "markdown",
   "id": "c9642fbe",
   "metadata": {},
   "source": [
    "Посчитаем число пропусков во всех столбцах"
   ]
  },
  {
   "cell_type": "code",
   "execution_count": 20,
   "id": "c8e6ff01",
   "metadata": {},
   "outputs": [
    {
     "data": {
      "text/plain": [
       "date        0\n",
       "group       0\n",
       "visitors    0\n",
       "dtype: int64"
      ]
     },
     "execution_count": 20,
     "metadata": {},
     "output_type": "execute_result"
    }
   ],
   "source": [
    "visitors.isna().sum()"
   ]
  },
  {
   "cell_type": "markdown",
   "id": "910e1ac4",
   "metadata": {},
   "source": [
    "Пропуски отсутствуют."
   ]
  },
  {
   "cell_type": "markdown",
   "id": "d548f5f8",
   "metadata": {},
   "source": [
    "### 1.3.5 Дубликаты в данных о посетителях"
   ]
  },
  {
   "cell_type": "code",
   "execution_count": 21,
   "id": "12676f37",
   "metadata": {},
   "outputs": [
    {
     "data": {
      "text/plain": [
       "0"
      ]
     },
     "execution_count": 21,
     "metadata": {},
     "output_type": "execute_result"
    }
   ],
   "source": [
    "visitors.duplicated().sum()"
   ]
  },
  {
   "cell_type": "markdown",
   "id": "c7ee09bd",
   "metadata": {},
   "source": [
    "Дубликаты в данных о посетителях отсутствуют."
   ]
  },
  {
   "cell_type": "markdown",
   "id": "8384bc54",
   "metadata": {},
   "source": [
    "## 1.4 Выводы по разделу"
   ]
  },
  {
   "cell_type": "markdown",
   "id": "3a8141ce",
   "metadata": {},
   "source": [
    "- загружены три датасета с информацией о гипотезах, заказах и посетителях;\n",
    "- в датасетах с данными о гипотезах и заказах названия столбцов приведены к Snake case;\n",
    "- в датасетах с данными о заказах и посетителях данные в столбцах date приведены к типу datetime;\n",
    "- пропуски и дубликаты в датасетах отсутствуют;\n",
    "- судя по анализу данных о заказах 58 пользователей попали сразу в обе группы, это составляет примерно 8.6% от всех пользователей, принимавших участие в тесте, данные о заказах этих пользователей были удалены из соответствующего датафрейма."
   ]
  },
  {
   "cell_type": "markdown",
   "id": "86fa8fed",
   "metadata": {},
   "source": [
    "# 2 Приоритизация гипотез"
   ]
  },
  {
   "cell_type": "markdown",
   "id": "d4ff3d7b",
   "metadata": {},
   "source": [
    "Ещё раз выведем информацию о гипотезах."
   ]
  },
  {
   "cell_type": "code",
   "execution_count": 22,
   "id": "f018ca4c",
   "metadata": {},
   "outputs": [
    {
     "data": {
      "text/html": [
       "<div>\n",
       "<style scoped>\n",
       "    .dataframe tbody tr th:only-of-type {\n",
       "        vertical-align: middle;\n",
       "    }\n",
       "\n",
       "    .dataframe tbody tr th {\n",
       "        vertical-align: top;\n",
       "    }\n",
       "\n",
       "    .dataframe thead th {\n",
       "        text-align: right;\n",
       "    }\n",
       "</style>\n",
       "<table border=\"1\" class=\"dataframe\">\n",
       "  <thead>\n",
       "    <tr style=\"text-align: right;\">\n",
       "      <th></th>\n",
       "      <th>hypothesis</th>\n",
       "      <th>reach</th>\n",
       "      <th>impact</th>\n",
       "      <th>confidence</th>\n",
       "      <th>efforts</th>\n",
       "    </tr>\n",
       "  </thead>\n",
       "  <tbody>\n",
       "    <tr>\n",
       "      <th>0</th>\n",
       "      <td>Добавить два новых канала привлечения трафика, что позволит привлекать на 30% больше пользователей</td>\n",
       "      <td>3</td>\n",
       "      <td>10</td>\n",
       "      <td>8</td>\n",
       "      <td>6</td>\n",
       "    </tr>\n",
       "    <tr>\n",
       "      <th>1</th>\n",
       "      <td>Запустить собственную службу доставки, что сократит срок доставки заказов</td>\n",
       "      <td>2</td>\n",
       "      <td>5</td>\n",
       "      <td>4</td>\n",
       "      <td>10</td>\n",
       "    </tr>\n",
       "    <tr>\n",
       "      <th>2</th>\n",
       "      <td>Добавить блоки рекомендаций товаров на сайт интернет магазина, чтобы повысить конверсию и средний чек заказа</td>\n",
       "      <td>8</td>\n",
       "      <td>3</td>\n",
       "      <td>7</td>\n",
       "      <td>3</td>\n",
       "    </tr>\n",
       "    <tr>\n",
       "      <th>3</th>\n",
       "      <td>Изменить структура категорий, что увеличит конверсию, т.к. пользователи быстрее найдут нужный товар</td>\n",
       "      <td>8</td>\n",
       "      <td>3</td>\n",
       "      <td>3</td>\n",
       "      <td>8</td>\n",
       "    </tr>\n",
       "    <tr>\n",
       "      <th>4</th>\n",
       "      <td>Изменить цвет фона главной страницы, чтобы увеличить вовлеченность пользователей</td>\n",
       "      <td>3</td>\n",
       "      <td>1</td>\n",
       "      <td>1</td>\n",
       "      <td>1</td>\n",
       "    </tr>\n",
       "    <tr>\n",
       "      <th>5</th>\n",
       "      <td>Добавить страницу отзывов клиентов о магазине, что позволит увеличить количество заказов</td>\n",
       "      <td>3</td>\n",
       "      <td>2</td>\n",
       "      <td>2</td>\n",
       "      <td>3</td>\n",
       "    </tr>\n",
       "    <tr>\n",
       "      <th>6</th>\n",
       "      <td>Показать на главной странице баннеры с актуальными акциями и распродажами, чтобы увеличить конверсию</td>\n",
       "      <td>5</td>\n",
       "      <td>3</td>\n",
       "      <td>8</td>\n",
       "      <td>3</td>\n",
       "    </tr>\n",
       "    <tr>\n",
       "      <th>7</th>\n",
       "      <td>Добавить форму подписки на все основные страницы, чтобы собрать базу клиентов для email-рассылок</td>\n",
       "      <td>10</td>\n",
       "      <td>7</td>\n",
       "      <td>8</td>\n",
       "      <td>5</td>\n",
       "    </tr>\n",
       "    <tr>\n",
       "      <th>8</th>\n",
       "      <td>Запустить акцию, дающую скидку на товар в день рождения</td>\n",
       "      <td>1</td>\n",
       "      <td>9</td>\n",
       "      <td>9</td>\n",
       "      <td>5</td>\n",
       "    </tr>\n",
       "  </tbody>\n",
       "</table>\n",
       "</div>"
      ],
      "text/plain": [
       "                                                                                                     hypothesis   \n",
       "0            Добавить два новых канала привлечения трафика, что позволит привлекать на 30% больше пользователей  \\\n",
       "1                                     Запустить собственную службу доставки, что сократит срок доставки заказов   \n",
       "2  Добавить блоки рекомендаций товаров на сайт интернет магазина, чтобы повысить конверсию и средний чек заказа   \n",
       "3           Изменить структура категорий, что увеличит конверсию, т.к. пользователи быстрее найдут нужный товар   \n",
       "4                              Изменить цвет фона главной страницы, чтобы увеличить вовлеченность пользователей   \n",
       "5                      Добавить страницу отзывов клиентов о магазине, что позволит увеличить количество заказов   \n",
       "6          Показать на главной странице баннеры с актуальными акциями и распродажами, чтобы увеличить конверсию   \n",
       "7              Добавить форму подписки на все основные страницы, чтобы собрать базу клиентов для email-рассылок   \n",
       "8                                                       Запустить акцию, дающую скидку на товар в день рождения   \n",
       "\n",
       "   reach  impact  confidence  efforts  \n",
       "0      3      10           8        6  \n",
       "1      2       5           4       10  \n",
       "2      8       3           7        3  \n",
       "3      8       3           3        8  \n",
       "4      3       1           1        1  \n",
       "5      3       2           2        3  \n",
       "6      5       3           8        3  \n",
       "7     10       7           8        5  \n",
       "8      1       9           9        5  "
      ]
     },
     "metadata": {},
     "output_type": "display_data"
    }
   ],
   "source": [
    "with pd.option_context('display.max_colwidth', None):\n",
    "    display(hypothesis)"
   ]
  },
  {
   "cell_type": "markdown",
   "id": "f31075bd",
   "metadata": {},
   "source": [
    "## 2.1 ICE-приоритизация гипотез"
   ]
  },
  {
   "cell_type": "code",
   "execution_count": 23,
   "id": "cf8d50ff",
   "metadata": {},
   "outputs": [],
   "source": [
    "hypothesis['ice'] = hypothesis['impact'] * hypothesis['confidence'] / hypothesis['efforts']"
   ]
  },
  {
   "cell_type": "code",
   "execution_count": 24,
   "id": "d2670c1f",
   "metadata": {},
   "outputs": [
    {
     "data": {
      "text/html": [
       "<div>\n",
       "<style scoped>\n",
       "    .dataframe tbody tr th:only-of-type {\n",
       "        vertical-align: middle;\n",
       "    }\n",
       "\n",
       "    .dataframe tbody tr th {\n",
       "        vertical-align: top;\n",
       "    }\n",
       "\n",
       "    .dataframe thead th {\n",
       "        text-align: right;\n",
       "    }\n",
       "</style>\n",
       "<table border=\"1\" class=\"dataframe\">\n",
       "  <thead>\n",
       "    <tr style=\"text-align: right;\">\n",
       "      <th></th>\n",
       "      <th>hypothesis</th>\n",
       "      <th>reach</th>\n",
       "      <th>impact</th>\n",
       "      <th>confidence</th>\n",
       "      <th>efforts</th>\n",
       "      <th>ice</th>\n",
       "    </tr>\n",
       "  </thead>\n",
       "  <tbody>\n",
       "    <tr>\n",
       "      <th>8</th>\n",
       "      <td>Запустить акцию, дающую скидку на товар в день рождения</td>\n",
       "      <td>1</td>\n",
       "      <td>9</td>\n",
       "      <td>9</td>\n",
       "      <td>5</td>\n",
       "      <td>16.200000</td>\n",
       "    </tr>\n",
       "    <tr>\n",
       "      <th>0</th>\n",
       "      <td>Добавить два новых канала привлечения трафика, что позволит привлекать на 30% больше пользователей</td>\n",
       "      <td>3</td>\n",
       "      <td>10</td>\n",
       "      <td>8</td>\n",
       "      <td>6</td>\n",
       "      <td>13.333333</td>\n",
       "    </tr>\n",
       "    <tr>\n",
       "      <th>7</th>\n",
       "      <td>Добавить форму подписки на все основные страницы, чтобы собрать базу клиентов для email-рассылок</td>\n",
       "      <td>10</td>\n",
       "      <td>7</td>\n",
       "      <td>8</td>\n",
       "      <td>5</td>\n",
       "      <td>11.200000</td>\n",
       "    </tr>\n",
       "    <tr>\n",
       "      <th>6</th>\n",
       "      <td>Показать на главной странице баннеры с актуальными акциями и распродажами, чтобы увеличить конверсию</td>\n",
       "      <td>5</td>\n",
       "      <td>3</td>\n",
       "      <td>8</td>\n",
       "      <td>3</td>\n",
       "      <td>8.000000</td>\n",
       "    </tr>\n",
       "    <tr>\n",
       "      <th>2</th>\n",
       "      <td>Добавить блоки рекомендаций товаров на сайт интернет магазина, чтобы повысить конверсию и средний чек заказа</td>\n",
       "      <td>8</td>\n",
       "      <td>3</td>\n",
       "      <td>7</td>\n",
       "      <td>3</td>\n",
       "      <td>7.000000</td>\n",
       "    </tr>\n",
       "    <tr>\n",
       "      <th>1</th>\n",
       "      <td>Запустить собственную службу доставки, что сократит срок доставки заказов</td>\n",
       "      <td>2</td>\n",
       "      <td>5</td>\n",
       "      <td>4</td>\n",
       "      <td>10</td>\n",
       "      <td>2.000000</td>\n",
       "    </tr>\n",
       "    <tr>\n",
       "      <th>5</th>\n",
       "      <td>Добавить страницу отзывов клиентов о магазине, что позволит увеличить количество заказов</td>\n",
       "      <td>3</td>\n",
       "      <td>2</td>\n",
       "      <td>2</td>\n",
       "      <td>3</td>\n",
       "      <td>1.333333</td>\n",
       "    </tr>\n",
       "    <tr>\n",
       "      <th>3</th>\n",
       "      <td>Изменить структура категорий, что увеличит конверсию, т.к. пользователи быстрее найдут нужный товар</td>\n",
       "      <td>8</td>\n",
       "      <td>3</td>\n",
       "      <td>3</td>\n",
       "      <td>8</td>\n",
       "      <td>1.125000</td>\n",
       "    </tr>\n",
       "    <tr>\n",
       "      <th>4</th>\n",
       "      <td>Изменить цвет фона главной страницы, чтобы увеличить вовлеченность пользователей</td>\n",
       "      <td>3</td>\n",
       "      <td>1</td>\n",
       "      <td>1</td>\n",
       "      <td>1</td>\n",
       "      <td>1.000000</td>\n",
       "    </tr>\n",
       "  </tbody>\n",
       "</table>\n",
       "</div>"
      ],
      "text/plain": [
       "                                                                                                     hypothesis   \n",
       "8                                                       Запустить акцию, дающую скидку на товар в день рождения  \\\n",
       "0            Добавить два новых канала привлечения трафика, что позволит привлекать на 30% больше пользователей   \n",
       "7              Добавить форму подписки на все основные страницы, чтобы собрать базу клиентов для email-рассылок   \n",
       "6          Показать на главной странице баннеры с актуальными акциями и распродажами, чтобы увеличить конверсию   \n",
       "2  Добавить блоки рекомендаций товаров на сайт интернет магазина, чтобы повысить конверсию и средний чек заказа   \n",
       "1                                     Запустить собственную службу доставки, что сократит срок доставки заказов   \n",
       "5                      Добавить страницу отзывов клиентов о магазине, что позволит увеличить количество заказов   \n",
       "3           Изменить структура категорий, что увеличит конверсию, т.к. пользователи быстрее найдут нужный товар   \n",
       "4                              Изменить цвет фона главной страницы, чтобы увеличить вовлеченность пользователей   \n",
       "\n",
       "   reach  impact  confidence  efforts        ice  \n",
       "8      1       9           9        5  16.200000  \n",
       "0      3      10           8        6  13.333333  \n",
       "7     10       7           8        5  11.200000  \n",
       "6      5       3           8        3   8.000000  \n",
       "2      8       3           7        3   7.000000  \n",
       "1      2       5           4       10   2.000000  \n",
       "5      3       2           2        3   1.333333  \n",
       "3      8       3           3        8   1.125000  \n",
       "4      3       1           1        1   1.000000  "
      ]
     },
     "metadata": {},
     "output_type": "display_data"
    }
   ],
   "source": [
    "with pd.option_context('display.max_colwidth', None):\n",
    "    display(hypothesis.sort_values(by='ice', ascending=False))"
   ]
  },
  {
   "cell_type": "markdown",
   "id": "2a0a2010",
   "metadata": {},
   "source": [
    "Фреймворк ICE указывает приоритетными для проверки гипотезы, у которых высокая предполагаемая отдача, низкие предполагаемые издержки на выполнение и высокая уверенность в рейтинге данных параметров.\n",
    "\n",
    "Такими гипотезами являются:\n",
    "- Запустить акцию, дающую скидку на товар в день рождения;\n",
    "- Добавить два новых канала привлечения трафика, что позволит привлекать на 30% больше пользователей;\n",
    "- Добавить форму подписки на все основные страницы, чтобы собрать базу клиентов для email-рассылок."
   ]
  },
  {
   "cell_type": "markdown",
   "id": "3b9cdab9",
   "metadata": {},
   "source": [
    "## 2.2 RICE-приоритизация гипотез"
   ]
  },
  {
   "cell_type": "code",
   "execution_count": 25,
   "id": "afd1c42f",
   "metadata": {},
   "outputs": [],
   "source": [
    "hypothesis['rice'] = hypothesis['reach'] * hypothesis['impact'] * hypothesis['confidence'] / hypothesis['efforts']"
   ]
  },
  {
   "cell_type": "code",
   "execution_count": 26,
   "id": "c28a94e6",
   "metadata": {},
   "outputs": [
    {
     "data": {
      "text/html": [
       "<div>\n",
       "<style scoped>\n",
       "    .dataframe tbody tr th:only-of-type {\n",
       "        vertical-align: middle;\n",
       "    }\n",
       "\n",
       "    .dataframe tbody tr th {\n",
       "        vertical-align: top;\n",
       "    }\n",
       "\n",
       "    .dataframe thead th {\n",
       "        text-align: right;\n",
       "    }\n",
       "</style>\n",
       "<table border=\"1\" class=\"dataframe\">\n",
       "  <thead>\n",
       "    <tr style=\"text-align: right;\">\n",
       "      <th></th>\n",
       "      <th>hypothesis</th>\n",
       "      <th>reach</th>\n",
       "      <th>impact</th>\n",
       "      <th>confidence</th>\n",
       "      <th>efforts</th>\n",
       "      <th>ice</th>\n",
       "      <th>rice</th>\n",
       "    </tr>\n",
       "  </thead>\n",
       "  <tbody>\n",
       "    <tr>\n",
       "      <th>7</th>\n",
       "      <td>Добавить форму подписки на все основные страницы, чтобы собрать базу клиентов для email-рассылок</td>\n",
       "      <td>10</td>\n",
       "      <td>7</td>\n",
       "      <td>8</td>\n",
       "      <td>5</td>\n",
       "      <td>11.200000</td>\n",
       "      <td>112.0</td>\n",
       "    </tr>\n",
       "    <tr>\n",
       "      <th>2</th>\n",
       "      <td>Добавить блоки рекомендаций товаров на сайт интернет магазина, чтобы повысить конверсию и средний чек заказа</td>\n",
       "      <td>8</td>\n",
       "      <td>3</td>\n",
       "      <td>7</td>\n",
       "      <td>3</td>\n",
       "      <td>7.000000</td>\n",
       "      <td>56.0</td>\n",
       "    </tr>\n",
       "    <tr>\n",
       "      <th>0</th>\n",
       "      <td>Добавить два новых канала привлечения трафика, что позволит привлекать на 30% больше пользователей</td>\n",
       "      <td>3</td>\n",
       "      <td>10</td>\n",
       "      <td>8</td>\n",
       "      <td>6</td>\n",
       "      <td>13.333333</td>\n",
       "      <td>40.0</td>\n",
       "    </tr>\n",
       "    <tr>\n",
       "      <th>6</th>\n",
       "      <td>Показать на главной странице баннеры с актуальными акциями и распродажами, чтобы увеличить конверсию</td>\n",
       "      <td>5</td>\n",
       "      <td>3</td>\n",
       "      <td>8</td>\n",
       "      <td>3</td>\n",
       "      <td>8.000000</td>\n",
       "      <td>40.0</td>\n",
       "    </tr>\n",
       "    <tr>\n",
       "      <th>8</th>\n",
       "      <td>Запустить акцию, дающую скидку на товар в день рождения</td>\n",
       "      <td>1</td>\n",
       "      <td>9</td>\n",
       "      <td>9</td>\n",
       "      <td>5</td>\n",
       "      <td>16.200000</td>\n",
       "      <td>16.2</td>\n",
       "    </tr>\n",
       "    <tr>\n",
       "      <th>3</th>\n",
       "      <td>Изменить структура категорий, что увеличит конверсию, т.к. пользователи быстрее найдут нужный товар</td>\n",
       "      <td>8</td>\n",
       "      <td>3</td>\n",
       "      <td>3</td>\n",
       "      <td>8</td>\n",
       "      <td>1.125000</td>\n",
       "      <td>9.0</td>\n",
       "    </tr>\n",
       "    <tr>\n",
       "      <th>1</th>\n",
       "      <td>Запустить собственную службу доставки, что сократит срок доставки заказов</td>\n",
       "      <td>2</td>\n",
       "      <td>5</td>\n",
       "      <td>4</td>\n",
       "      <td>10</td>\n",
       "      <td>2.000000</td>\n",
       "      <td>4.0</td>\n",
       "    </tr>\n",
       "    <tr>\n",
       "      <th>5</th>\n",
       "      <td>Добавить страницу отзывов клиентов о магазине, что позволит увеличить количество заказов</td>\n",
       "      <td>3</td>\n",
       "      <td>2</td>\n",
       "      <td>2</td>\n",
       "      <td>3</td>\n",
       "      <td>1.333333</td>\n",
       "      <td>4.0</td>\n",
       "    </tr>\n",
       "    <tr>\n",
       "      <th>4</th>\n",
       "      <td>Изменить цвет фона главной страницы, чтобы увеличить вовлеченность пользователей</td>\n",
       "      <td>3</td>\n",
       "      <td>1</td>\n",
       "      <td>1</td>\n",
       "      <td>1</td>\n",
       "      <td>1.000000</td>\n",
       "      <td>3.0</td>\n",
       "    </tr>\n",
       "  </tbody>\n",
       "</table>\n",
       "</div>"
      ],
      "text/plain": [
       "                                                                                                     hypothesis   \n",
       "7              Добавить форму подписки на все основные страницы, чтобы собрать базу клиентов для email-рассылок  \\\n",
       "2  Добавить блоки рекомендаций товаров на сайт интернет магазина, чтобы повысить конверсию и средний чек заказа   \n",
       "0            Добавить два новых канала привлечения трафика, что позволит привлекать на 30% больше пользователей   \n",
       "6          Показать на главной странице баннеры с актуальными акциями и распродажами, чтобы увеличить конверсию   \n",
       "8                                                       Запустить акцию, дающую скидку на товар в день рождения   \n",
       "3           Изменить структура категорий, что увеличит конверсию, т.к. пользователи быстрее найдут нужный товар   \n",
       "1                                     Запустить собственную службу доставки, что сократит срок доставки заказов   \n",
       "5                      Добавить страницу отзывов клиентов о магазине, что позволит увеличить количество заказов   \n",
       "4                              Изменить цвет фона главной страницы, чтобы увеличить вовлеченность пользователей   \n",
       "\n",
       "   reach  impact  confidence  efforts        ice   rice  \n",
       "7     10       7           8        5  11.200000  112.0  \n",
       "2      8       3           7        3   7.000000   56.0  \n",
       "0      3      10           8        6  13.333333   40.0  \n",
       "6      5       3           8        3   8.000000   40.0  \n",
       "8      1       9           9        5  16.200000   16.2  \n",
       "3      8       3           3        8   1.125000    9.0  \n",
       "1      2       5           4       10   2.000000    4.0  \n",
       "5      3       2           2        3   1.333333    4.0  \n",
       "4      3       1           1        1   1.000000    3.0  "
      ]
     },
     "metadata": {},
     "output_type": "display_data"
    }
   ],
   "source": [
    "with pd.option_context('display.max_colwidth', None):\n",
    "    display(hypothesis.sort_values(by='rice', ascending=False))"
   ]
  },
  {
   "cell_type": "markdown",
   "id": "2e46ec98",
   "metadata": {},
   "source": [
    "Фреймворк RICE указывает на гипотезу \"форма подписки\" как на наиболее приоритетную для проверки, поскольку у этой гипотезы кроме большой предполагаемой отдачи, средних предполагаемых издержек и высокой уверенности в рейтинге данных параметров также очень большой предполагаемый охват."
   ]
  },
  {
   "cell_type": "markdown",
   "id": "8531fddf",
   "metadata": {},
   "source": [
    "Фреймворк ICE указывает приоритетными для проверки гипотезы, у которых высокая предполагаемая отдача, низкие предполагаемые издержки на выполнение и высокая уверенность в рейтинге данных параметров, а также высокий охват.\n",
    "\n",
    "Такими гипотезами являются:\n",
    "- Добавить форму подписки на все основные страницы, чтобы собрать базу клиентов для email-рассылок;\n",
    "- Добавить блоки рекомендаций товаров на сайт интернет магазина, чтобы повысить конверсию и средний чек заказа;\n",
    "- Добавить два новых канала привлечения трафика, что позволит привлекать на 30% больше пользователей\t"
   ]
  },
  {
   "cell_type": "markdown",
   "id": "c12f56fc",
   "metadata": {},
   "source": [
    "## 2.3 Выводы по разделу"
   ]
  },
  {
   "cell_type": "markdown",
   "id": "0484677b",
   "metadata": {},
   "source": [
    "- Если мы учитываем охват изменений, содержащихся в гипотезе, то в первую очередь необходимо проверить гипотезу о добавление формы подписки на все основные страницы.\n",
    "- Если мы не учитываем охват, то в первую очередь необходимо проверить гипотезу о запуске акции к дню рождения.\n",
    "- Приоритет гипотез меняется в зависимости от того какой фреймворк мы используем.\n",
    "- Изменение приоритеты гипотез происходит из-за учёта или неучёта разных факторов в разных методиках оценки.\n",
    "- Для фреймворков ICE и RICE такое отличие объясняется учётом в RICE дополнительного параметра - охвата (Reach), за счёт домножения на данный параметр больше приоритета получают гипотезы, внедрение которых может воздействовать на больше число пользователей."
   ]
  },
  {
   "cell_type": "markdown",
   "id": "c410450a",
   "metadata": {},
   "source": [
    "# 3 Анализ A/B-теста"
   ]
  },
  {
   "cell_type": "markdown",
   "id": "20d7ed36",
   "metadata": {},
   "source": [
    "## 3.1 Анализ кумулятивной выручки по группам"
   ]
  },
  {
   "cell_type": "markdown",
   "id": "61d4eae3",
   "metadata": {},
   "source": [
    "Сгруппируем данные в группах A и B по дате и посчитаем для каждой даты выручку и число заказов:"
   ]
  },
  {
   "cell_type": "code",
   "execution_count": 27,
   "id": "59b108d0",
   "metadata": {},
   "outputs": [],
   "source": [
    "revenue_a = (orders\n",
    "            .query('group ==\"A\"')[['date', 'revenue', 'transaction_id']]\n",
    "            .groupby('date', as_index=False)\n",
    "            .agg({'revenue': 'sum', 'transaction_id': 'nunique'})\n",
    "            .rename(columns={'revenue': 'day_revenue', 'transaction_id': 'day_orders'})\n",
    "            .sort_values(by='date'))"
   ]
  },
  {
   "cell_type": "code",
   "execution_count": 28,
   "id": "923df1d0",
   "metadata": {},
   "outputs": [],
   "source": [
    "revenue_b = (orders\n",
    "            .query('group ==\"B\"')[['date', 'revenue', 'transaction_id']]\n",
    "            .groupby('date', as_index=False)\n",
    "            .agg({'revenue': 'sum', 'transaction_id': 'nunique'})\n",
    "            .rename(columns={'revenue': 'day_revenue', 'transaction_id': 'day_orders'})\n",
    "            .sort_values(by='date'))"
   ]
  },
  {
   "cell_type": "markdown",
   "id": "fd8c89ed",
   "metadata": {},
   "source": [
    "Посчитаем отдельно для каждой группы кумулятивную выручку:"
   ]
  },
  {
   "cell_type": "code",
   "execution_count": 29,
   "id": "655c6dd2",
   "metadata": {},
   "outputs": [],
   "source": [
    "revenue_a['cum_revenue'] = revenue_a.apply(lambda x: revenue_a[revenue_a['date'] <= x['date']]['day_revenue'].sum(), axis=1)"
   ]
  },
  {
   "cell_type": "code",
   "execution_count": 30,
   "id": "8446ee4e",
   "metadata": {},
   "outputs": [],
   "source": [
    "revenue_b['cum_revenue'] = revenue_b.apply(lambda x: revenue_b[revenue_b['date'] <= x['date']]['day_revenue'].sum(), axis=1)"
   ]
  },
  {
   "cell_type": "markdown",
   "id": "b60bb31e",
   "metadata": {},
   "source": [
    "Построим графики кумулятивной выручки по группам:"
   ]
  },
  {
   "cell_type": "code",
   "execution_count": 31,
   "id": "f73874b9",
   "metadata": {},
   "outputs": [
    {
     "data": {
      "image/png": "[encoded data removed]",
      "text/plain": [
       "<Figure size 1500x600 with 1 Axes>"
      ]
     },
     "metadata": {},
     "output_type": "display_data"
    }
   ],
   "source": [
    "plt.figure(figsize=(15,6))\n",
    "plt.plot(revenue_a['date'], revenue_a['cum_revenue'], label='A')\n",
    "plt.plot(revenue_b['date'], revenue_b['cum_revenue'], label='B')\n",
    "plt.grid(True)\n",
    "plt.legend()\n",
    "plt.title('Кумулятивная выручка в группах A и B')\n",
    "plt.xlabel('Дата')\n",
    "plt.ylabel('Кумулятивная выручка')\n",
    "plt.show()"
   ]
  },
  {
   "cell_type": "markdown",
   "id": "83b47e07",
   "metadata": {},
   "source": [
    "**Выводы по графику:**\n",
    "- кумулятивная выручка группы B больше группы A практически на всём временном промежутки проведения теста;\n",
    "- кумулятивная выручка в группе A растёт равномерно;\n",
    "- кумулятивная выручка в группе B имеет один большой скачок, что может свидетельствовать о наличие аномалии;\n",
    "- необходимо провести проверку наличия аномалий и выбросов, а также провести дополнительный анализ кумулятивной выручки на результатах теста, очищенных от аномалий и выбросов."
   ]
  },
  {
   "cell_type": "markdown",
   "id": "cf72aab3",
   "metadata": {},
   "source": [
    "## 3.2 Анализ среднего кумулятивного чека по группам"
   ]
  },
  {
   "cell_type": "markdown",
   "id": "f4946366",
   "metadata": {},
   "source": [
    "Считаем средние кумулятивное число заказов за каждый день теста отдельно по группам:"
   ]
  },
  {
   "cell_type": "code",
   "execution_count": 32,
   "id": "2742a2bb",
   "metadata": {},
   "outputs": [],
   "source": [
    "revenue_a['cum_orders'] = revenue_a.apply(lambda x: revenue_a[revenue_a['date'] <= x['date']]['day_orders'].sum(), axis=1)"
   ]
  },
  {
   "cell_type": "code",
   "execution_count": 33,
   "id": "4b02d622",
   "metadata": {},
   "outputs": [],
   "source": [
    "revenue_b['cum_orders'] = revenue_b.apply(lambda x: revenue_b[revenue_b['date'] <= x['date']]['day_orders'].sum(), axis=1)"
   ]
  },
  {
   "cell_type": "code",
   "execution_count": 34,
   "id": "d8882e11",
   "metadata": {},
   "outputs": [
    {
     "data": {
      "image/png": "[encoded data removed]",
      "text/plain": [
       "<Figure size 1500x600 with 1 Axes>"
      ]
     },
     "metadata": {},
     "output_type": "display_data"
    }
   ],
   "source": [
    "plt.figure(figsize=(15,6))\n",
    "plt.plot(revenue_a['date'], revenue_a['cum_revenue']/revenue_a['cum_orders'], label='A')\n",
    "plt.plot(revenue_b['date'], revenue_b['cum_revenue']/revenue_b['cum_orders'], label='B')\n",
    "plt.grid(True)\n",
    "plt.legend()\n",
    "plt.title('Кумулятивный средний чек в группах A и B')\n",
    "plt.xlabel('Дата')\n",
    "plt.ylabel('Средний чек')\n",
    "plt.show()"
   ]
  },
  {
   "cell_type": "markdown",
   "id": "f8ef7ba6",
   "metadata": {},
   "source": [
    "**Выводы по графику:**\n",
    "- кумулятивный средний чек в обеих группах стабилизируется;\n",
    "- при этом в группе B виден очень крупный скачок с 7000 до 10000, что может быть выбросом или аномалией;\n",
    "- кумулятивный средний чек к концу теста фиксируется в обеих группах."
   ]
  },
  {
   "cell_type": "markdown",
   "id": "43a9cbb6",
   "metadata": {},
   "source": [
    "## 3.3 Относительное изменения кумулятивного среднего чека группы B к группе A"
   ]
  },
  {
   "cell_type": "markdown",
   "id": "8b758ebb",
   "metadata": {},
   "source": [
    "Построим график относительного изменения кумулятивного среднего чека группы B к группе A:"
   ]
  },
  {
   "cell_type": "code",
   "execution_count": 35,
   "id": "91cb292f",
   "metadata": {},
   "outputs": [
    {
     "data": {
      "image/png": "[encoded data removed]",
      "text/plain": [
       "<Figure size 1500x600 with 1 Axes>"
      ]
     },
     "metadata": {},
     "output_type": "display_data"
    }
   ],
   "source": [
    "plt.figure(figsize=(15,6))\n",
    "plt.plot(revenue_a['date'], \n",
    "        (revenue_b['cum_revenue']/revenue_b['cum_orders']) / (revenue_a['cum_revenue']/revenue_a['cum_orders']) - 1, \n",
    "         label='Original')\n",
    "plt.grid(True)\n",
    "plt.title('Относительное изменения кумулятивного среднего чека группы B к группе A')\n",
    "plt.axhline(y=0, color='black', linestyle='--')\n",
    "plt.legend()\n",
    "plt.xlabel('Дата')\n",
    "plt.show()"
   ]
  },
  {
   "cell_type": "markdown",
   "id": "2a71c736",
   "metadata": {},
   "source": [
    "**Выводы по графику:**\n",
    "- по данным графика в конце теста кумулятивный средний чек выше в группе B более чем на 20%;\n",
    "- на протяжении теста по значению кумулятивного среднего чека вырывается вперёд то группа A, то группа B;\n",
    "- кривая на графике в нескольких местах очень резко меняет своё значение, что показывает наличие аномально больших покупок."
   ]
  },
  {
   "cell_type": "markdown",
   "id": "ca12d202",
   "metadata": {},
   "source": [
    "##  3.4 График кумулятивного среднего количества заказов на посетителя по группам"
   ]
  },
  {
   "cell_type": "markdown",
   "id": "08fdd8f9",
   "metadata": {},
   "source": [
    "Присоединяем к таблицам с данными о результатах теста по группам информацию о числе посетителей каждый день теста:"
   ]
  },
  {
   "cell_type": "code",
   "execution_count": 36,
   "id": "f96fe154",
   "metadata": {},
   "outputs": [],
   "source": [
    "revenue_a = revenue_a.merge(visitors.query('group == \"A\"')[['date', 'visitors']], on='date', how='left')"
   ]
  },
  {
   "cell_type": "code",
   "execution_count": 37,
   "id": "7506ae47",
   "metadata": {},
   "outputs": [],
   "source": [
    "revenue_b = revenue_b.merge(visitors.query('group == \"B\"')[['date', 'visitors']], on='date', how='left')"
   ]
  },
  {
   "cell_type": "markdown",
   "id": "a5253c8b",
   "metadata": {},
   "source": [
    "Рассчитываем куммулятивное число посетителей за каждый день по группам:"
   ]
  },
  {
   "cell_type": "code",
   "execution_count": 38,
   "id": "c05ea5b0",
   "metadata": {},
   "outputs": [],
   "source": [
    "revenue_a['cum_visitors'] = revenue_a.apply(lambda x: revenue_a[revenue_a['date'] <= x['date']]['visitors'].sum(), axis=1)"
   ]
  },
  {
   "cell_type": "code",
   "execution_count": 39,
   "id": "a6824adc",
   "metadata": {},
   "outputs": [],
   "source": [
    "revenue_b['cum_visitors'] = revenue_b.apply(lambda x: revenue_b[revenue_b['date'] <= x['date']]['visitors'].sum(), axis=1)"
   ]
  },
  {
   "cell_type": "markdown",
   "id": "aa6a7872",
   "metadata": {},
   "source": [
    "Строим графики:"
   ]
  },
  {
   "cell_type": "code",
   "execution_count": 40,
   "id": "43cee824",
   "metadata": {},
   "outputs": [
    {
     "data": {
      "image/png": "[encoded data removed]",
      "text/plain": [
       "<Figure size 1500x600 with 1 Axes>"
      ]
     },
     "metadata": {},
     "output_type": "display_data"
    }
   ],
   "source": [
    "plt.figure(figsize=(15,6))\n",
    "plt.plot(revenue_a['date'], revenue_a['cum_orders']/revenue_a['cum_visitors'], label='A')\n",
    "plt.plot(revenue_b['date'], revenue_b['cum_orders']/revenue_b['cum_visitors'], label='B')\n",
    "plt.grid(True)\n",
    "plt.legend()\n",
    "plt.title('Кумулятивное среднее количество заказов на посетителя в группах A и B')\n",
    "plt.xlabel('Дата')\n",
    "plt.ylabel('Среднее количество заказов')\n",
    "plt.show()"
   ]
  },
  {
   "cell_type": "markdown",
   "id": "cf3dce15",
   "metadata": {},
   "source": [
    "**Выводы по графику:**\n",
    "- при больших колебаниях кумулятивного среднего количества заказов в начале теста к его завершению величины в обеих группах практически стабилизировались;\n",
    "- кумулятивное среднее количество заказов на посетителя в группе B явно больше, чем в группе A."
   ]
  },
  {
   "cell_type": "markdown",
   "id": "032ab70f",
   "metadata": {},
   "source": [
    "## 3.5 График относительного изменения кумулятивного среднего количества заказов на посетителя группы B к группе A"
   ]
  },
  {
   "cell_type": "code",
   "execution_count": 41,
   "id": "95488e28",
   "metadata": {},
   "outputs": [
    {
     "data": {
      "image/png": "[encoded data removed]",
      "text/plain": [
       "<Figure size 1500x600 with 1 Axes>"
      ]
     },
     "metadata": {},
     "output_type": "display_data"
    }
   ],
   "source": [
    "plt.figure(figsize=(15,6))\n",
    "plt.plot(revenue_a['date'], \n",
    "        (revenue_b['cum_orders']/revenue_b['cum_visitors']) / (revenue_a['cum_orders']/revenue_a['cum_visitors']) - 1,\n",
    "        label='Original')\n",
    "plt.grid(True)\n",
    "plt.title('Относительное изменение кумулятивного среднего количества заказов на посетителя группы B к группе A')\n",
    "plt.axhline(y=0, color='black', linestyle='--')\n",
    "plt.legend()\n",
    "plt.xlabel('Дата')\n",
    "plt.show()"
   ]
  },
  {
   "cell_type": "markdown",
   "id": "d035c6f2",
   "metadata": {},
   "source": [
    "**Выводы по графику:**\n",
    "- график относительного изменения кумулятивного среднего количества заказов на посетителя подтверждает выводы по предыдущему графику: среднее число заказов на посетителя к концу теста выше в группе B примерно на 14%, чем в группе A."
   ]
  },
  {
   "cell_type": "markdown",
   "id": "5f61d443",
   "metadata": {},
   "source": [
    "## 3.6 Точечный график количества заказов по пользователям"
   ]
  },
  {
   "cell_type": "markdown",
   "id": "a8b800ab",
   "metadata": {},
   "source": [
    "Определим число заказов у каждого посетителя "
   ]
  },
  {
   "cell_type": "code",
   "execution_count": 42,
   "id": "675eb7dc",
   "metadata": {},
   "outputs": [],
   "source": [
    "orders_by_visitors = (orders\n",
    "                      .groupby('visitor_id', as_index=False)\n",
    "                      .agg({'transaction_id': 'count', 'group': 'max'})\n",
    "                      .rename(columns={'transaction_id': 'number_of_orders'})\n",
    "                      .sort_values(by='visitor_id'))"
   ]
  },
  {
   "cell_type": "code",
   "execution_count": 43,
   "id": "b317647b",
   "metadata": {},
   "outputs": [
    {
     "data": {
      "image/png": "[encoded data removed]",
      "text/plain": [
       "<Figure size 800x500 with 1 Axes>"
      ]
     },
     "metadata": {},
     "output_type": "display_data"
    }
   ],
   "source": [
    "plt.figure(figsize=(8,5))\n",
    "plt.scatter(orders_by_visitors.index, orders_by_visitors['number_of_orders'])\n",
    "plt.grid(axis='y')\n",
    "plt.title('График числа заказов по пользователям (исходные данные)')\n",
    "plt.ylabel('Число заказов')\n",
    "plt.show()"
   ]
  },
  {
   "cell_type": "markdown",
   "id": "7fc9c44f",
   "metadata": {},
   "source": [
    "**Выводы по графику:**\n",
    "- подавляющие большинство пользователей делает только один заказ;\n",
    "- по два и по три заказа совершают гораздо меньше пользователей, но их число, возможно, всё ещё значимо."
   ]
  },
  {
   "cell_type": "markdown",
   "id": "3191abb6",
   "metadata": {},
   "source": [
    "## 3.7 Определение границы аномальных пользователей по числу заказов"
   ]
  },
  {
   "cell_type": "markdown",
   "id": "a99df554",
   "metadata": {},
   "source": [
    "Для определения границы аномальных пользователей посчитаем 95-й и 99-й перцентили:"
   ]
  },
  {
   "cell_type": "code",
   "execution_count": 44,
   "id": "6385efb8",
   "metadata": {},
   "outputs": [
    {
     "data": {
      "text/plain": [
       "array([1., 2.])"
      ]
     },
     "execution_count": 44,
     "metadata": {},
     "output_type": "execute_result"
    }
   ],
   "source": [
    "np.percentile(orders_by_visitors['number_of_orders'], [95, 99])"
   ]
  },
  {
   "cell_type": "markdown",
   "id": "aadc0c05",
   "metadata": {},
   "source": [
    "95% пользователей делают два и менее заказа.\n",
    "\n",
    "99% пользователей делают 2 и менее заказа.\n",
    "\n",
    "В качестве границы для определения аномальных пользователей выбираем два и менее заказа. Всех пользователей, что совершают более двух заказов отбросим. "
   ]
  },
  {
   "cell_type": "markdown",
   "id": "cfd4866f",
   "metadata": {},
   "source": [
    "## 3.8 Точечный график стоимостей заказов"
   ]
  },
  {
   "cell_type": "code",
   "execution_count": 45,
   "id": "c4247515",
   "metadata": {},
   "outputs": [
    {
     "data": {
      "image/png": "[encoded data removed]",
      "text/plain": [
       "<Figure size 800x500 with 1 Axes>"
      ]
     },
     "metadata": {},
     "output_type": "display_data"
    }
   ],
   "source": [
    "plt.figure(figsize=(8,5))\n",
    "\n",
    "plt.scatter(orders.index, orders['revenue'])\n",
    "plt.grid(axis='y')\n",
    "plt.yticks(range(0, 1400000, 100000))\n",
    "plt.title('График стоимости заказов по пользователям (исходные данные)')\n",
    "plt.ylabel('Стоимость заказа, рублей')\n",
    "\n",
    "plt.show()"
   ]
  },
  {
   "cell_type": "markdown",
   "id": "346937a5",
   "metadata": {},
   "source": [
    "**Выводы по графику:**\n",
    "- среди заказов есть уникальный со стоимостью около 1.3 млн.рублей;\n",
    "- также есть второй выброс на 200 тыс.рублей\n",
    "- необходимо построить распределение в другом масштабе, чтобы оценить его более детально."
   ]
  },
  {
   "cell_type": "code",
   "execution_count": 46,
   "id": "e41099f3",
   "metadata": {},
   "outputs": [
    {
     "data": {
      "image/png": "[encoded data removed]",
      "text/plain": [
       "<Figure size 800x500 with 1 Axes>"
      ]
     },
     "metadata": {},
     "output_type": "display_data"
    }
   ],
   "source": [
    "plt.figure(figsize=(8,5))\n",
    "\n",
    "plt.scatter(orders.index, orders['revenue'])\n",
    "plt.grid(axis='y')\n",
    "plt.yticks(range(0, 120000, 10000))\n",
    "plt.ylim(0,120000)\n",
    "plt.title('График стоимости заказов по пользователям')\n",
    "plt.ylabel('Стоимость заказа, рублей')\n",
    "\n",
    "plt.show()"
   ]
  },
  {
   "cell_type": "markdown",
   "id": "4ab4c847",
   "metadata": {},
   "source": [
    "**Выводы по графику:**\n",
    "- если исключить два аномальных заказа, то стоимость заказов не превышает 100 тыс.рублей;\n",
    "- стоимость большей части заказов ограничена 20 тыс.рублей;\n",
    "- для более точного анализа стоимости заказов необходимо посчитать перцентили."
   ]
  },
  {
   "cell_type": "markdown",
   "id": "19e280bf",
   "metadata": {},
   "source": [
    "## 3.9 Определение границы аномальных заказов по их стоимости"
   ]
  },
  {
   "cell_type": "markdown",
   "id": "00b05747",
   "metadata": {},
   "source": [
    "Для определения границы заказов посчитаем 95-й и 99-й перцентили:"
   ]
  },
  {
   "cell_type": "code",
   "execution_count": 47,
   "id": "f527ad78",
   "metadata": {},
   "outputs": [
    {
     "data": {
      "text/plain": [
       "array([26785., 53904.])"
      ]
     },
     "execution_count": 47,
     "metadata": {},
     "output_type": "execute_result"
    }
   ],
   "source": [
    "np.percentile(orders['revenue'], [95, 99])"
   ]
  },
  {
   "cell_type": "markdown",
   "id": "864f39d8",
   "metadata": {},
   "source": [
    "95% заказов совершаются на сумму 26785 рублей и менее.\n",
    "\n",
    "99% заказов совершаются на сумму 53904 рубля и менее.\n",
    "\n",
    "В качестве границы для определения аномальных заказов выбираем стоимость заказа 26785 рублей. Все заказы на большую сумму отбросим."
   ]
  },
  {
   "cell_type": "markdown",
   "id": "a9ebb531",
   "metadata": {},
   "source": [
    "## 3.10 Cтатистическая значимость различий в среднем количестве заказов на посетителя между группами по «сырым» данным"
   ]
  },
  {
   "cell_type": "markdown",
   "id": "ed09eb84",
   "metadata": {},
   "source": [
    "Нулевая гипотеза (H0):\n",
    "- между данными групп A и B о среднем количестве заказов посетителя отсутствует статистически значимая разница.\n",
    "\n",
    "Альтернативная гипотеза (H1):\n",
    "- между данными групп A и B о среднем количестве заказов посетителя есть статистически значимая разница."
   ]
  },
  {
   "cell_type": "markdown",
   "id": "797fb5e1",
   "metadata": {},
   "source": [
    "Подготовим данные для проверки U-критерием Манна-Уитни: посчитаем число заказов на каждого пользователя и добавим нули для всех пользователей, которые не совершали покупок."
   ]
  },
  {
   "cell_type": "code",
   "execution_count": 48,
   "id": "e8504b03",
   "metadata": {},
   "outputs": [],
   "source": [
    "orders_by_visitor_a = orders.query('group == \"A\"').groupby('visitor_id')['transaction_id'].count().sort_values()"
   ]
  },
  {
   "cell_type": "code",
   "execution_count": 49,
   "id": "fb05f0ff",
   "metadata": {},
   "outputs": [],
   "source": [
    "orders_by_visitor_b = orders.query('group == \"B\"').groupby('visitor_id')['transaction_id'].count().sort_values()"
   ]
  },
  {
   "cell_type": "code",
   "execution_count": 50,
   "id": "0ccba233",
   "metadata": {},
   "outputs": [],
   "source": [
    "sample_a = (pd.concat([orders_by_visitor_a,\n",
    "                       pd.Series(0,index=np.arange(visitors.query('group == \"A\"')['visitors'].sum()\n",
    "                                                   - len(orders_by_visitor_a)), name='orders')],axis=0))"
   ]
  },
  {
   "cell_type": "code",
   "execution_count": 51,
   "id": "3705c702",
   "metadata": {},
   "outputs": [],
   "source": [
    "sample_b = (pd.concat([orders_by_visitor_b,\n",
    "                       pd.Series(0,index=np.arange(visitors.query('group == \"B\"')['visitors'].sum()\n",
    "                                                   - len(orders_by_visitor_b)), name='orders')],axis=0))"
   ]
  },
  {
   "cell_type": "markdown",
   "id": "1b8340fd",
   "metadata": {},
   "source": [
    "Для проверки нулевой гипотезы воспользуемся U-критерием Манна-Уитни:"
   ]
  },
  {
   "cell_type": "code",
   "execution_count": 52,
   "id": "ae025349",
   "metadata": {},
   "outputs": [
    {
     "name": "stdout",
     "output_type": "stream",
     "text": [
      "p-value: 0.011\n",
      "Отношение среднего числа заказов на посетителя в группе B к группе A: 1.16\n",
      "Отвергаем нулевую гипотезу\n"
     ]
    }
   ],
   "source": [
    "# зададим границу статистической значимости равной 5%\n",
    "alpha = 0.05\n",
    "\n",
    "# вычислим p-value\n",
    "p_value = st.mannwhitneyu(sample_a, sample_b).pvalue\n",
    "\n",
    "\n",
    "print('p-value: {0:.3f}'.format(p_value))\n",
    "\n",
    "print('Отношение среднего числа заказов на посетителя в группе B к группе A: {0:.2f}'\n",
    "      .format(sample_b.mean() / sample_a.mean()))\n",
    "\n",
    "# сравним p-value с границей статистической значимости\n",
    "if p_value > alpha:\n",
    "    print('Не удалось отвергнуть нулевую гипотезу')\n",
    "else:\n",
    "    print('Отвергаем нулевую гипотезу')"
   ]
  },
  {
   "cell_type": "markdown",
   "id": "ab7c5331",
   "metadata": {},
   "source": [
    "**Выводы:**\n",
    "- наблюдаемое различие между группами в случае «сырых» исходных и отфильтрованных данных составляет 16%;\n",
    "- при этом разница между выборками среднего числа заказов на пользователя между группами A и B в обоих случаях является статистически значимой – отвергаем нулевую гипотезу;\n",
    "- прежде чем делать окончательные выводы о результатах A/B-теста необходимо будет проверить ту же гипотезу на очищенных данных."
   ]
  },
  {
   "cell_type": "markdown",
   "id": "3a33f4c6",
   "metadata": {},
   "source": [
    "## 3.11 Статистическая значимость различий в среднем чеке заказа между группами по «сырым» данным"
   ]
  },
  {
   "cell_type": "markdown",
   "id": "f6f8dfd9",
   "metadata": {},
   "source": [
    "Нулевая гипотеза (H0):\n",
    "- между данными групп A и B о среднем чеке отсутствует статистически значимая разница.\n",
    "\n",
    "Альтернативная гипотеза (H1):\n",
    "- между данными групп A и B о среднем чеке есть статистически значимая разница."
   ]
  },
  {
   "cell_type": "markdown",
   "id": "3d9c8bb1",
   "metadata": {},
   "source": [
    "Для проверки нулевой гипотезы воспользуемся U-критерием Манна-Уитни:"
   ]
  },
  {
   "cell_type": "code",
   "execution_count": 53,
   "id": "019383c5",
   "metadata": {
    "scrolled": true
   },
   "outputs": [
    {
     "name": "stdout",
     "output_type": "stream",
     "text": [
      "p-value: 0.8294908998\n",
      "Отношение среднего чека в группе B к группе A: 1.29\n",
      "Не удалось отвергнуть нулевую гипотезу\n"
     ]
    }
   ],
   "source": [
    "# зададим границу статистической значимости равно 5%\n",
    "alpha = 0.05\n",
    "\n",
    "# вычислим p-value\n",
    "p_value = st.mannwhitneyu(orders.query('group == \"A\"')['revenue'],\n",
    "                          orders.query('group == \"B\"')['revenue'])[1]\n",
    "\n",
    "\n",
    "print('p-value: {0:.10f}'.format(p_value))\n",
    "\n",
    "print('Отношение среднего чека в группе B к группе A: {0:.2f}'\n",
    "      .format(orders.query('group == \"B\"')['revenue'].mean() / \n",
    "              orders.query('group == \"A\"')['revenue'].mean()\n",
    "             )\n",
    "     )\n",
    "\n",
    "# сравним p-value с границей статистической значимости\n",
    "if p_value > alpha:\n",
    "    print('Не удалось отвергнуть нулевую гипотезу')\n",
    "else:\n",
    "    print('Отвергаем нулевую гипотезу')"
   ]
  },
  {
   "cell_type": "markdown",
   "id": "a51eb18a",
   "metadata": {},
   "source": [
    "**Выводы:**\n",
    "- наблюдаемое различие между группами в случае «сырых» исходных данных составляет 29%;\n",
    "- при этом разница между выборками средних чеков между группами A и B не является статистически значимой – нулевая гипотеза не опровергнута;\n",
    "- прежде чем делать окончательные выводы о результатах A/B-теста необходимо будет проверить ту же гипотезу на очищенных данных."
   ]
  },
  {
   "cell_type": "markdown",
   "id": "89ba4ac9",
   "metadata": {},
   "source": [
    "## 3.12 Статистическая значимость различий в среднем количестве заказов на посетителя между группами по «очищенным» данным"
   ]
  },
  {
   "cell_type": "markdown",
   "id": "f83644e0",
   "metadata": {},
   "source": [
    "Нулевая гипотеза (H0):\n",
    "- между данными групп A и B о среднем количестве заказов посетителя отсутствует статистически значимая разница.\n",
    "\n",
    "Альтернативная гипотеза (H1):\n",
    "- между данными групп A и B о среднем количестве заказов посетителя есть статистически значимая разница."
   ]
  },
  {
   "cell_type": "markdown",
   "id": "6efb0a4c",
   "metadata": {},
   "source": [
    "Для проверки нулевой гипотезы воспользуемся U-критерием Манна-Уитни:"
   ]
  },
  {
   "cell_type": "code",
   "execution_count": 54,
   "id": "47e92cd3",
   "metadata": {
    "scrolled": true
   },
   "outputs": [
    {
     "name": "stdout",
     "output_type": "stream",
     "text": [
      "p-value: 0.008\n",
      "Отношение среднего числа заказов на посетителя в группе B к группе A: 1.18\n",
      "Отвергаем нулевую гипотезу\n"
     ]
    }
   ],
   "source": [
    "# зададим границу статистической значимости равно 5%\n",
    "alpha = 0.05\n",
    "\n",
    "# вычислим p-value\n",
    "p_value = st.mannwhitneyu(sample_a[sample_a <= 2],\n",
    "                          sample_b[sample_b <= 2])[1]\n",
    "\n",
    "\n",
    "print('p-value: {0:.3f}'.format(p_value))\n",
    "\n",
    "print('Отношение среднего числа заказов на посетителя в группе B к группе A: {0:.2f}'\n",
    "      .format(sample_b[sample_b <= 2].mean() / sample_a[sample_a <= 2].mean())\n",
    "     )\n",
    "\n",
    "# сравним p-value с границей статистической значимости\n",
    "if p_value > alpha:\n",
    "    print('Не удалось отвергнуть нулевую гипотезу')\n",
    "else:\n",
    "    print('Отвергаем нулевую гипотезу')"
   ]
  },
  {
   "cell_type": "markdown",
   "id": "f20eed81",
   "metadata": {},
   "source": [
    "**Выводы:**\n",
    "- наблюдаемое различие между группами в случае «очищенных» данных составляет 18%;\n",
    "- при этом разница между выборками среднего числа заказов на пользователя между группами A и B является статистически значимой – нулевая гипотеза опровергнута."
   ]
  },
  {
   "cell_type": "markdown",
   "id": "9b56b242",
   "metadata": {},
   "source": [
    "## 3.13 Статистическая значимость различий в среднем чеке заказа между группами по «очищенным» данным"
   ]
  },
  {
   "cell_type": "markdown",
   "id": "9dfe43b5",
   "metadata": {},
   "source": [
    "Нулевая гипотеза (H0):\n",
    "- между данными групп A и B о среднем чеке отсутствует статистически значимая разница.\n",
    "\n",
    "Альтернативная гипотеза (H1):\n",
    "- между данными групп A и B о среднем чеке есть статистически значимая разница."
   ]
  },
  {
   "cell_type": "markdown",
   "id": "0b49f183",
   "metadata": {},
   "source": [
    "Для проверки нулевой гипотезы воспользуемся U-критерием Манна-Уитни:"
   ]
  },
  {
   "cell_type": "code",
   "execution_count": 55,
   "id": "7924b703",
   "metadata": {
    "scrolled": true
   },
   "outputs": [
    {
     "name": "stdout",
     "output_type": "stream",
     "text": [
      "p-value: 0.6986767756\n",
      "Отношение среднего чека в группе B к группе A: 1.06\n",
      "Не удалось отвергнуть нулевую гипотезу\n"
     ]
    }
   ],
   "source": [
    "# зададим границу статистической значимости равно 5%\n",
    "alpha = 0.05\n",
    "\n",
    "# вычислим p-value\n",
    "p_value = st.mannwhitneyu(orders.query('(group == \"A\") and (revenue <= 26785)')['revenue'],\n",
    "                          orders.query('(group == \"B\") and (revenue <= 26785)')['revenue'])[1]\n",
    "\n",
    "\n",
    "print('p-value: {0:.10f}'.format(p_value))\n",
    "\n",
    "print('Отношение среднего чека в группе B к группе A: {0:.2f}'\n",
    "      .format(orders.query('(group == \"A\") and (revenue <= 26785)')['revenue'].mean() / \n",
    "              orders.query('(group == \"B\") and (revenue <= 26785)')['revenue'].mean()\n",
    "             )\n",
    "     )\n",
    "\n",
    "# сравним p-value с границей статистической значимости\n",
    "if p_value > alpha:\n",
    "    print('Не удалось отвергнуть нулевую гипотезу')\n",
    "else:\n",
    "    print('Отвергаем нулевую гипотезу')"
   ]
  },
  {
   "cell_type": "markdown",
   "id": "347cecac",
   "metadata": {},
   "source": [
    "**Выводы:**\n",
    "- наблюдаемое различие между группами в случае «сырых» исходных данных составляет 6%;\n",
    "- при этом разница между выборками средних чеков между группами A и B не является статистически значимой – нулевая гипотеза не опровергнута."
   ]
  },
  {
   "cell_type": "markdown",
   "id": "f1af7180",
   "metadata": {},
   "source": [
    "## 3.14 Оконачательные выводы по результатам теста"
   ]
  },
  {
   "cell_type": "markdown",
   "id": "dc332075",
   "metadata": {},
   "source": [
    "Динамика теста:\n",
    "- кумулятивные варианты обеих интересующих нас метрик: среднего числа заказов и среднего чека, – стабилизировались 31 августа 2019 года;\n",
    "- на графике среднего чека видно, что при устранении выброса в районе 18 августа 2019 года графики по обеим группам будут колебаться вокруг примерно одного значения;\n",
    "- на графике среднего количества заказов явно видно лидерство группы B, которое уже не изменится;\n",
    "- разницы в динамике между исходными данными и данными с исключёнными пользователями, попавшими в обе группы не наблюдается;\n",
    "- в связи со всем вышеперечисленным тест можно остановить и зафиксировать результат."
   ]
  },
  {
   "cell_type": "markdown",
   "id": "c075df07",
   "metadata": {},
   "source": [
    "По результатам проведения теста:\n",
    "- не выявлено статистически значимого различия в средних чеках групп A и B;\n",
    "- выявлено статистически значимое различие в количестве покупок на пользователя между группами A и B."
   ]
  },
  {
   "cell_type": "markdown",
   "id": "bf133c90",
   "metadata": {},
   "source": [
    "**Таким образом по результатам тест можно остановить. Между группами A и B отсутствует статистически значимое различие в части выручки, при этом группа B побеждает по числу покупок на пользователя.**"
   ]
  },
  {
   "cell_type": "markdown",
   "id": "b708810d",
   "metadata": {},
   "source": [
    "# 4 Выводы"
   ]
  },
  {
   "cell_type": "markdown",
   "id": "ba10351d",
   "metadata": {},
   "source": [
    "- на этапе загрузки и предобработки данных в датасетах названия столбцов были приведены к Snake case, данные о дате приведены к формату datetime, при этом нет было обнаружено пропусков и дубликатов;\n",
    "- на этапе приоритизации гипотез при помощи фреймворков ICE и RICE были выбраны наиболее приоритетные гипотезы: о добавлении формы подписки, если мы учитываем охват нововведений, или об акции к дню рождения, если охват нам не важен;\n",
    "- после анализа результатов A/B теста было выявлено, что тест может быть остановлен;\n",
    "- статистически значимых различий между группами A и B по средним чекам не выявлено;\n",
    "- выявлены статистически значимые различия между группами A и B по числу покупок на человека – в группе B число покупок на человека больше;\n",
    "- необходимо внести изменения в порядок проведения A/B-тестов, чтобы ошибка с попаданием некоторых пользователей сразу в две группы в будущих тестах не повторялась."
   ]
  }
 ],
 "metadata": {
  "ExecuteTimeLog": [
   {
    "duration": 1117,
    "start_time": "2023-05-31T09:53:10.720Z"
   },
   {
    "duration": 172,
    "start_time": "2023-05-31T09:53:11.839Z"
   },
   {
    "duration": 12,
    "start_time": "2023-05-31T09:53:12.012Z"
   },
   {
    "duration": 28,
    "start_time": "2023-05-31T09:53:12.027Z"
   },
   {
    "duration": 246,
    "start_time": "2023-05-31T09:53:12.057Z"
   },
   {
    "duration": 12,
    "start_time": "2023-05-31T09:53:12.304Z"
   },
   {
    "duration": 33,
    "start_time": "2023-05-31T09:53:12.317Z"
   },
   {
    "duration": 27,
    "start_time": "2023-05-31T09:53:12.351Z"
   },
   {
    "duration": 19,
    "start_time": "2023-05-31T09:53:12.380Z"
   },
   {
    "duration": 27,
    "start_time": "2023-05-31T09:53:12.401Z"
   },
   {
    "duration": 29,
    "start_time": "2023-05-31T09:53:12.430Z"
   },
   {
    "duration": 155,
    "start_time": "2023-05-31T09:53:12.460Z"
   },
   {
    "duration": 10,
    "start_time": "2023-05-31T09:53:12.616Z"
   },
   {
    "duration": 18,
    "start_time": "2023-05-31T09:53:12.627Z"
   },
   {
    "duration": 31,
    "start_time": "2023-05-31T09:53:12.647Z"
   },
   {
    "duration": 48,
    "start_time": "2023-05-31T09:53:12.680Z"
   },
   {
    "duration": 31,
    "start_time": "2023-05-31T09:53:12.730Z"
   },
   {
    "duration": 27,
    "start_time": "2023-05-31T09:53:12.763Z"
   },
   {
    "duration": 14,
    "start_time": "2023-05-31T09:53:12.792Z"
   },
   {
    "duration": 34,
    "start_time": "2023-05-31T09:53:12.808Z"
   },
   {
    "duration": 37,
    "start_time": "2023-05-31T09:53:12.844Z"
   },
   {
    "duration": 20,
    "start_time": "2023-05-31T09:53:12.882Z"
   },
   {
    "duration": 39,
    "start_time": "2023-05-31T09:53:12.903Z"
   },
   {
    "duration": 42,
    "start_time": "2023-05-31T09:53:12.944Z"
   },
   {
    "duration": 34,
    "start_time": "2023-05-31T09:53:12.987Z"
   },
   {
    "duration": 63,
    "start_time": "2023-05-31T09:53:13.022Z"
   },
   {
    "duration": 42,
    "start_time": "2023-05-31T09:53:13.087Z"
   },
   {
    "duration": 288,
    "start_time": "2023-05-31T09:53:13.132Z"
   },
   {
    "duration": 26,
    "start_time": "2023-05-31T09:53:13.422Z"
   },
   {
    "duration": 41,
    "start_time": "2023-05-31T09:53:13.450Z"
   },
   {
    "duration": 216,
    "start_time": "2023-05-31T09:53:13.493Z"
   },
   {
    "duration": 302,
    "start_time": "2023-05-31T09:53:13.711Z"
   },
   {
    "duration": 10,
    "start_time": "2023-05-31T09:53:14.014Z"
   },
   {
    "duration": 31,
    "start_time": "2023-05-31T09:53:14.026Z"
   },
   {
    "duration": 60,
    "start_time": "2023-05-31T09:53:14.058Z"
   },
   {
    "duration": 67,
    "start_time": "2023-05-31T09:53:14.120Z"
   },
   {
    "duration": 256,
    "start_time": "2023-05-31T09:53:14.188Z"
   },
   {
    "duration": 324,
    "start_time": "2023-05-31T09:53:14.446Z"
   },
   {
    "duration": 114,
    "start_time": "2023-05-31T09:53:14.777Z"
   },
   {
    "duration": 151,
    "start_time": "2023-05-31T09:53:14.892Z"
   },
   {
    "duration": 5,
    "start_time": "2023-05-31T09:53:15.045Z"
   },
   {
    "duration": 180,
    "start_time": "2023-05-31T09:53:15.051Z"
   },
   {
    "duration": 175,
    "start_time": "2023-05-31T09:53:15.232Z"
   },
   {
    "duration": 6,
    "start_time": "2023-05-31T09:53:15.409Z"
   },
   {
    "duration": 32,
    "start_time": "2023-05-31T09:53:15.416Z"
   },
   {
    "duration": 122,
    "start_time": "2023-05-31T09:53:15.450Z"
   },
   {
    "duration": 7,
    "start_time": "2023-05-31T09:53:15.577Z"
   },
   {
    "duration": 34,
    "start_time": "2023-05-31T09:53:15.586Z"
   },
   {
    "duration": 38,
    "start_time": "2023-05-31T09:53:15.622Z"
   },
   {
    "duration": 8,
    "start_time": "2023-05-31T09:57:03.995Z"
   },
   {
    "duration": 6,
    "start_time": "2023-05-31T09:57:15.986Z"
   },
   {
    "duration": 1281,
    "start_time": "2023-06-01T06:54:19.719Z"
   },
   {
    "duration": 129,
    "start_time": "2023-06-01T06:54:21.002Z"
   },
   {
    "duration": 13,
    "start_time": "2023-06-01T06:54:21.133Z"
   },
   {
    "duration": 15,
    "start_time": "2023-06-01T06:54:21.148Z"
   },
   {
    "duration": 110,
    "start_time": "2023-06-01T06:54:21.164Z"
   },
   {
    "duration": 14,
    "start_time": "2023-06-01T06:54:21.276Z"
   },
   {
    "duration": 15,
    "start_time": "2023-06-01T06:54:21.291Z"
   },
   {
    "duration": 12,
    "start_time": "2023-06-01T06:54:21.308Z"
   },
   {
    "duration": 30,
    "start_time": "2023-06-01T06:54:21.322Z"
   },
   {
    "duration": 20,
    "start_time": "2023-06-01T06:54:21.358Z"
   },
   {
    "duration": 9,
    "start_time": "2023-06-01T06:54:21.381Z"
   },
   {
    "duration": 13,
    "start_time": "2023-06-01T06:54:21.392Z"
   },
   {
    "duration": 5,
    "start_time": "2023-06-01T06:54:21.407Z"
   },
   {
    "duration": 6,
    "start_time": "2023-06-01T06:54:21.413Z"
   },
   {
    "duration": 95,
    "start_time": "2023-06-01T06:54:21.421Z"
   },
   {
    "duration": 10,
    "start_time": "2023-06-01T06:54:21.518Z"
   },
   {
    "duration": 13,
    "start_time": "2023-06-01T06:54:21.530Z"
   },
   {
    "duration": 6,
    "start_time": "2023-06-01T06:54:21.544Z"
   },
   {
    "duration": 18,
    "start_time": "2023-06-01T06:54:21.551Z"
   },
   {
    "duration": 14,
    "start_time": "2023-06-01T06:54:21.571Z"
   },
   {
    "duration": 8,
    "start_time": "2023-06-01T06:54:21.587Z"
   },
   {
    "duration": 11,
    "start_time": "2023-06-01T06:54:21.597Z"
   },
   {
    "duration": 6,
    "start_time": "2023-06-01T06:54:21.610Z"
   },
   {
    "duration": 14,
    "start_time": "2023-06-01T06:54:21.617Z"
   },
   {
    "duration": 6,
    "start_time": "2023-06-01T06:54:21.632Z"
   },
   {
    "duration": 31,
    "start_time": "2023-06-01T06:54:21.640Z"
   },
   {
    "duration": 14,
    "start_time": "2023-06-01T06:54:21.673Z"
   },
   {
    "duration": 21,
    "start_time": "2023-06-01T06:54:21.693Z"
   },
   {
    "duration": 30,
    "start_time": "2023-06-01T06:54:21.717Z"
   },
   {
    "duration": 17,
    "start_time": "2023-06-01T06:54:21.750Z"
   },
   {
    "duration": 26,
    "start_time": "2023-06-01T06:54:21.771Z"
   },
   {
    "duration": 23,
    "start_time": "2023-06-01T06:54:21.799Z"
   },
   {
    "duration": 50,
    "start_time": "2023-06-01T06:54:21.824Z"
   },
   {
    "duration": 29,
    "start_time": "2023-06-01T06:54:21.876Z"
   },
   {
    "duration": 346,
    "start_time": "2023-06-01T06:54:21.907Z"
   },
   {
    "duration": 35,
    "start_time": "2023-06-01T06:54:22.257Z"
   },
   {
    "duration": 37,
    "start_time": "2023-06-01T06:54:22.294Z"
   },
   {
    "duration": 45,
    "start_time": "2023-06-01T06:54:22.333Z"
   },
   {
    "duration": 25,
    "start_time": "2023-06-01T06:54:22.380Z"
   },
   {
    "duration": 274,
    "start_time": "2023-06-01T06:54:22.407Z"
   },
   {
    "duration": 336,
    "start_time": "2023-06-01T06:54:22.683Z"
   },
   {
    "duration": 9,
    "start_time": "2023-06-01T06:54:23.021Z"
   },
   {
    "duration": 26,
    "start_time": "2023-06-01T06:54:23.032Z"
   },
   {
    "duration": 15,
    "start_time": "2023-06-01T06:54:23.061Z"
   },
   {
    "duration": 12,
    "start_time": "2023-06-01T06:54:23.078Z"
   },
   {
    "duration": 26,
    "start_time": "2023-06-01T06:54:23.092Z"
   },
   {
    "duration": 49,
    "start_time": "2023-06-01T06:54:23.119Z"
   },
   {
    "duration": 26,
    "start_time": "2023-06-01T06:54:23.172Z"
   },
   {
    "duration": 27,
    "start_time": "2023-06-01T06:54:23.200Z"
   },
   {
    "duration": 303,
    "start_time": "2023-06-01T06:54:23.229Z"
   },
   {
    "duration": 366,
    "start_time": "2023-06-01T06:54:23.534Z"
   },
   {
    "duration": 148,
    "start_time": "2023-06-01T06:54:23.903Z"
   },
   {
    "duration": 138,
    "start_time": "2023-06-01T06:54:24.054Z"
   },
   {
    "duration": 337,
    "start_time": "2023-06-01T06:54:24.194Z"
   },
   {
    "duration": 6,
    "start_time": "2023-06-01T06:54:24.533Z"
   },
   {
    "duration": 33,
    "start_time": "2023-06-01T06:54:24.541Z"
   },
   {
    "duration": 335,
    "start_time": "2023-06-01T06:54:24.576Z"
   },
   {
    "duration": 405,
    "start_time": "2023-06-01T06:54:24.913Z"
   },
   {
    "duration": 5,
    "start_time": "2023-06-01T06:54:25.320Z"
   },
   {
    "duration": 10,
    "start_time": "2023-06-01T06:54:25.327Z"
   },
   {
    "duration": 18,
    "start_time": "2023-06-01T06:54:25.356Z"
   },
   {
    "duration": 16,
    "start_time": "2023-06-01T06:54:25.375Z"
   },
   {
    "duration": 16,
    "start_time": "2023-06-01T06:54:25.392Z"
   },
   {
    "duration": 16,
    "start_time": "2023-06-01T06:54:25.410Z"
   },
   {
    "duration": 15,
    "start_time": "2023-06-01T06:54:25.459Z"
   },
   {
    "duration": 18,
    "start_time": "2023-06-01T06:54:25.476Z"
   },
   {
    "duration": 7,
    "start_time": "2023-06-01T06:54:25.496Z"
   },
   {
    "duration": 29,
    "start_time": "2023-06-01T06:54:25.505Z"
   },
   {
    "duration": 41,
    "start_time": "2023-06-01T06:54:25.536Z"
   },
   {
    "duration": 23,
    "start_time": "2023-06-01T06:54:25.581Z"
   },
   {
    "duration": 7,
    "start_time": "2023-06-01T06:59:15.617Z"
   },
   {
    "duration": 10,
    "start_time": "2023-06-01T06:59:28.991Z"
   },
   {
    "duration": 1174,
    "start_time": "2023-06-01T14:32:50.860Z"
   },
   {
    "duration": 168,
    "start_time": "2023-06-01T14:32:52.037Z"
   },
   {
    "duration": 13,
    "start_time": "2023-06-01T14:32:52.207Z"
   },
   {
    "duration": 15,
    "start_time": "2023-06-01T14:32:52.222Z"
   },
   {
    "duration": 295,
    "start_time": "2023-06-01T14:32:52.239Z"
   },
   {
    "duration": 15,
    "start_time": "2023-06-01T14:32:52.536Z"
   },
   {
    "duration": 43,
    "start_time": "2023-06-01T14:32:52.553Z"
   },
   {
    "duration": 13,
    "start_time": "2023-06-01T14:32:52.598Z"
   },
   {
    "duration": 13,
    "start_time": "2023-06-01T14:32:52.613Z"
   },
   {
    "duration": 6,
    "start_time": "2023-06-01T14:32:52.628Z"
   },
   {
    "duration": 17,
    "start_time": "2023-06-01T14:32:52.635Z"
   },
   {
    "duration": 16,
    "start_time": "2023-06-01T14:32:52.654Z"
   },
   {
    "duration": 15,
    "start_time": "2023-06-01T14:32:52.671Z"
   },
   {
    "duration": 10,
    "start_time": "2023-06-01T14:32:52.689Z"
   },
   {
    "duration": 128,
    "start_time": "2023-06-01T14:32:52.701Z"
   },
   {
    "duration": 11,
    "start_time": "2023-06-01T14:32:52.830Z"
   },
   {
    "duration": 16,
    "start_time": "2023-06-01T14:32:52.842Z"
   },
   {
    "duration": 21,
    "start_time": "2023-06-01T14:32:52.860Z"
   },
   {
    "duration": 20,
    "start_time": "2023-06-01T14:32:52.882Z"
   },
   {
    "duration": 7,
    "start_time": "2023-06-01T14:32:52.903Z"
   },
   {
    "duration": 9,
    "start_time": "2023-06-01T14:32:52.911Z"
   },
   {
    "duration": 9,
    "start_time": "2023-06-01T14:32:52.922Z"
   },
   {
    "duration": 6,
    "start_time": "2023-06-01T14:32:52.933Z"
   },
   {
    "duration": 19,
    "start_time": "2023-06-01T14:32:52.940Z"
   },
   {
    "duration": 7,
    "start_time": "2023-06-01T14:32:52.960Z"
   },
   {
    "duration": 15,
    "start_time": "2023-06-01T14:32:52.969Z"
   },
   {
    "duration": 14,
    "start_time": "2023-06-01T14:32:52.985Z"
   },
   {
    "duration": 11,
    "start_time": "2023-06-01T14:32:53.000Z"
   },
   {
    "duration": 10,
    "start_time": "2023-06-01T14:32:53.013Z"
   },
   {
    "duration": 39,
    "start_time": "2023-06-01T14:32:53.025Z"
   },
   {
    "duration": 26,
    "start_time": "2023-06-01T14:32:53.066Z"
   },
   {
    "duration": 25,
    "start_time": "2023-06-01T14:32:53.094Z"
   },
   {
    "duration": 46,
    "start_time": "2023-06-01T14:32:53.121Z"
   },
   {
    "duration": 26,
    "start_time": "2023-06-01T14:32:53.169Z"
   },
   {
    "duration": 344,
    "start_time": "2023-06-01T14:32:53.198Z"
   },
   {
    "duration": 32,
    "start_time": "2023-06-01T14:32:53.544Z"
   },
   {
    "duration": 30,
    "start_time": "2023-06-01T14:32:53.578Z"
   },
   {
    "duration": 25,
    "start_time": "2023-06-01T14:32:53.609Z"
   },
   {
    "duration": 47,
    "start_time": "2023-06-01T14:32:53.636Z"
   },
   {
    "duration": 239,
    "start_time": "2023-06-01T14:32:53.685Z"
   },
   {
    "duration": 379,
    "start_time": "2023-06-01T14:32:53.928Z"
   },
   {
    "duration": 10,
    "start_time": "2023-06-01T14:32:54.309Z"
   },
   {
    "duration": 13,
    "start_time": "2023-06-01T14:32:54.320Z"
   },
   {
    "duration": 22,
    "start_time": "2023-06-01T14:32:54.335Z"
   },
   {
    "duration": 10,
    "start_time": "2023-06-01T14:32:54.359Z"
   },
   {
    "duration": 26,
    "start_time": "2023-06-01T14:32:54.371Z"
   },
   {
    "duration": 26,
    "start_time": "2023-06-01T14:32:54.398Z"
   },
   {
    "duration": 42,
    "start_time": "2023-06-01T14:32:54.426Z"
   },
   {
    "duration": 25,
    "start_time": "2023-06-01T14:32:54.470Z"
   },
   {
    "duration": 260,
    "start_time": "2023-06-01T14:32:54.497Z"
   },
   {
    "duration": 353,
    "start_time": "2023-06-01T14:32:54.759Z"
   },
   {
    "duration": 110,
    "start_time": "2023-06-01T14:32:55.114Z"
   },
   {
    "duration": 68,
    "start_time": "2023-06-01T14:32:55.226Z"
   },
   {
    "duration": 66,
    "start_time": "2023-06-01T14:32:55.296Z"
   },
   {
    "duration": 103,
    "start_time": "2023-06-01T14:32:55.363Z"
   },
   {
    "duration": 47,
    "start_time": "2023-06-01T14:32:55.468Z"
   },
   {
    "duration": 71,
    "start_time": "2023-06-01T14:32:55.517Z"
   },
   {
    "duration": 292,
    "start_time": "2023-06-01T14:32:55.590Z"
   },
   {
    "duration": 5,
    "start_time": "2023-06-01T14:32:55.884Z"
   },
   {
    "duration": 11,
    "start_time": "2023-06-01T14:32:55.890Z"
   },
   {
    "duration": 334,
    "start_time": "2023-06-01T14:32:55.903Z"
   },
   {
    "duration": 380,
    "start_time": "2023-06-01T14:32:56.238Z"
   },
   {
    "duration": 4,
    "start_time": "2023-06-01T14:32:56.620Z"
   },
   {
    "duration": 9,
    "start_time": "2023-06-01T14:32:56.626Z"
   },
   {
    "duration": 26,
    "start_time": "2023-06-01T14:32:56.636Z"
   },
   {
    "duration": 16,
    "start_time": "2023-06-01T14:32:56.663Z"
   },
   {
    "duration": 15,
    "start_time": "2023-06-01T14:32:56.680Z"
   },
   {
    "duration": 16,
    "start_time": "2023-06-01T14:32:56.697Z"
   },
   {
    "duration": 16,
    "start_time": "2023-06-01T14:32:56.715Z"
   },
   {
    "duration": 20,
    "start_time": "2023-06-01T14:32:56.758Z"
   },
   {
    "duration": 22,
    "start_time": "2023-06-01T14:32:56.780Z"
   },
   {
    "duration": 16,
    "start_time": "2023-06-01T14:32:56.803Z"
   },
   {
    "duration": 5,
    "start_time": "2023-06-01T14:33:48.769Z"
   },
   {
    "duration": 1213,
    "start_time": "2023-06-01T14:35:14.627Z"
   },
   {
    "duration": 107,
    "start_time": "2023-06-01T14:35:15.842Z"
   },
   {
    "duration": 12,
    "start_time": "2023-06-01T14:35:15.951Z"
   },
   {
    "duration": 15,
    "start_time": "2023-06-01T14:35:15.965Z"
   },
   {
    "duration": 103,
    "start_time": "2023-06-01T14:35:15.982Z"
   },
   {
    "duration": 11,
    "start_time": "2023-06-01T14:35:16.087Z"
   },
   {
    "duration": 17,
    "start_time": "2023-06-01T14:35:16.100Z"
   },
   {
    "duration": 17,
    "start_time": "2023-06-01T14:35:16.118Z"
   },
   {
    "duration": 10,
    "start_time": "2023-06-01T14:35:16.137Z"
   },
   {
    "duration": 12,
    "start_time": "2023-06-01T14:35:16.149Z"
   },
   {
    "duration": 6,
    "start_time": "2023-06-01T14:35:16.163Z"
   },
   {
    "duration": 24,
    "start_time": "2023-06-01T14:35:16.171Z"
   },
   {
    "duration": 5,
    "start_time": "2023-06-01T14:35:16.197Z"
   },
   {
    "duration": 5,
    "start_time": "2023-06-01T14:35:16.203Z"
   },
   {
    "duration": 124,
    "start_time": "2023-06-01T14:35:16.210Z"
   },
   {
    "duration": 13,
    "start_time": "2023-06-01T14:35:16.336Z"
   },
   {
    "duration": 18,
    "start_time": "2023-06-01T14:35:16.351Z"
   },
   {
    "duration": 11,
    "start_time": "2023-06-01T14:35:16.371Z"
   },
   {
    "duration": 14,
    "start_time": "2023-06-01T14:35:16.384Z"
   },
   {
    "duration": 13,
    "start_time": "2023-06-01T14:35:16.400Z"
   },
   {
    "duration": 12,
    "start_time": "2023-06-01T14:35:16.415Z"
   },
   {
    "duration": 29,
    "start_time": "2023-06-01T14:35:16.429Z"
   },
   {
    "duration": 9,
    "start_time": "2023-06-01T14:35:16.460Z"
   },
   {
    "duration": 15,
    "start_time": "2023-06-01T14:35:16.471Z"
   },
   {
    "duration": 15,
    "start_time": "2023-06-01T14:35:16.488Z"
   },
   {
    "duration": 35,
    "start_time": "2023-06-01T14:35:16.505Z"
   },
   {
    "duration": 21,
    "start_time": "2023-06-01T14:35:16.542Z"
   },
   {
    "duration": 69,
    "start_time": "2023-06-01T14:35:16.568Z"
   },
   {
    "duration": 27,
    "start_time": "2023-06-01T14:35:16.639Z"
   },
   {
    "duration": 21,
    "start_time": "2023-06-01T14:35:16.668Z"
   },
   {
    "duration": 27,
    "start_time": "2023-06-01T14:35:16.691Z"
   },
   {
    "duration": 39,
    "start_time": "2023-06-01T14:35:16.720Z"
   },
   {
    "duration": 31,
    "start_time": "2023-06-01T14:35:16.761Z"
   },
   {
    "duration": 31,
    "start_time": "2023-06-01T14:35:16.794Z"
   },
   {
    "duration": 331,
    "start_time": "2023-06-01T14:35:16.827Z"
   },
   {
    "duration": 26,
    "start_time": "2023-06-01T14:35:17.160Z"
   },
   {
    "duration": 25,
    "start_time": "2023-06-01T14:35:17.188Z"
   },
   {
    "duration": 60,
    "start_time": "2023-06-01T14:35:17.216Z"
   },
   {
    "duration": 29,
    "start_time": "2023-06-01T14:35:17.278Z"
   },
   {
    "duration": 275,
    "start_time": "2023-06-01T14:35:17.309Z"
   },
   {
    "duration": 319,
    "start_time": "2023-06-01T14:35:17.587Z"
   },
   {
    "duration": 9,
    "start_time": "2023-06-01T14:35:17.908Z"
   },
   {
    "duration": 13,
    "start_time": "2023-06-01T14:35:17.919Z"
   },
   {
    "duration": 13,
    "start_time": "2023-06-01T14:35:17.933Z"
   },
   {
    "duration": 11,
    "start_time": "2023-06-01T14:35:17.956Z"
   },
   {
    "duration": 33,
    "start_time": "2023-06-01T14:35:17.969Z"
   },
   {
    "duration": 31,
    "start_time": "2023-06-01T14:35:18.004Z"
   },
   {
    "duration": 41,
    "start_time": "2023-06-01T14:35:18.037Z"
   },
   {
    "duration": 41,
    "start_time": "2023-06-01T14:35:18.080Z"
   },
   {
    "duration": 266,
    "start_time": "2023-06-01T14:35:18.123Z"
   },
   {
    "duration": 338,
    "start_time": "2023-06-01T14:35:18.392Z"
   },
   {
    "duration": 127,
    "start_time": "2023-06-01T14:35:18.732Z"
   },
   {
    "duration": 51,
    "start_time": "2023-06-01T14:35:18.861Z"
   },
   {
    "duration": 101,
    "start_time": "2023-06-01T14:35:18.914Z"
   },
   {
    "duration": 156,
    "start_time": "2023-06-01T14:35:19.017Z"
   },
   {
    "duration": 46,
    "start_time": "2023-06-01T14:35:19.174Z"
   },
   {
    "duration": 70,
    "start_time": "2023-06-01T14:35:19.222Z"
   },
   {
    "duration": 306,
    "start_time": "2023-06-01T14:35:19.294Z"
   },
   {
    "duration": 6,
    "start_time": "2023-06-01T14:35:19.602Z"
   },
   {
    "duration": 5,
    "start_time": "2023-06-01T14:35:19.610Z"
   },
   {
    "duration": 322,
    "start_time": "2023-06-01T14:35:19.616Z"
   },
   {
    "duration": 388,
    "start_time": "2023-06-01T14:35:19.940Z"
   },
   {
    "duration": 5,
    "start_time": "2023-06-01T14:35:20.330Z"
   },
   {
    "duration": 21,
    "start_time": "2023-06-01T14:35:20.336Z"
   },
   {
    "duration": 9,
    "start_time": "2023-06-01T14:35:20.359Z"
   },
   {
    "duration": 12,
    "start_time": "2023-06-01T14:35:20.370Z"
   },
   {
    "duration": 44,
    "start_time": "2023-06-01T14:35:20.384Z"
   },
   {
    "duration": 26,
    "start_time": "2023-06-01T14:35:20.430Z"
   },
   {
    "duration": 19,
    "start_time": "2023-06-01T14:35:20.458Z"
   },
   {
    "duration": 30,
    "start_time": "2023-06-01T14:35:20.479Z"
   },
   {
    "duration": 30,
    "start_time": "2023-06-01T14:35:20.510Z"
   },
   {
    "duration": 31,
    "start_time": "2023-06-01T14:35:20.542Z"
   },
   {
    "duration": 1140,
    "start_time": "2023-06-02T08:27:00.189Z"
   },
   {
    "duration": 151,
    "start_time": "2023-06-02T08:27:01.331Z"
   },
   {
    "duration": 13,
    "start_time": "2023-06-02T08:27:01.484Z"
   },
   {
    "duration": 53,
    "start_time": "2023-06-02T08:27:01.500Z"
   },
   {
    "duration": 276,
    "start_time": "2023-06-02T08:27:01.554Z"
   },
   {
    "duration": 13,
    "start_time": "2023-06-02T08:27:01.832Z"
   },
   {
    "duration": 28,
    "start_time": "2023-06-02T08:27:01.846Z"
   },
   {
    "duration": 40,
    "start_time": "2023-06-02T08:27:01.876Z"
   },
   {
    "duration": 42,
    "start_time": "2023-06-02T08:27:01.918Z"
   },
   {
    "duration": 18,
    "start_time": "2023-06-02T08:27:01.963Z"
   },
   {
    "duration": 14,
    "start_time": "2023-06-02T08:27:01.983Z"
   },
   {
    "duration": 45,
    "start_time": "2023-06-02T08:27:01.999Z"
   },
   {
    "duration": 5,
    "start_time": "2023-06-02T08:27:02.046Z"
   },
   {
    "duration": 18,
    "start_time": "2023-06-02T08:27:02.052Z"
   },
   {
    "duration": 135,
    "start_time": "2023-06-02T08:27:02.072Z"
   },
   {
    "duration": 12,
    "start_time": "2023-06-02T08:27:02.209Z"
   },
   {
    "duration": 9,
    "start_time": "2023-06-02T08:27:02.223Z"
   },
   {
    "duration": 11,
    "start_time": "2023-06-02T08:27:02.234Z"
   },
   {
    "duration": 12,
    "start_time": "2023-06-02T08:27:02.247Z"
   },
   {
    "duration": 16,
    "start_time": "2023-06-02T08:27:02.261Z"
   },
   {
    "duration": 7,
    "start_time": "2023-06-02T08:27:02.279Z"
   },
   {
    "duration": 15,
    "start_time": "2023-06-02T08:27:02.288Z"
   },
   {
    "duration": 14,
    "start_time": "2023-06-02T08:27:02.304Z"
   },
   {
    "duration": 10,
    "start_time": "2023-06-02T08:27:02.319Z"
   },
   {
    "duration": 11,
    "start_time": "2023-06-02T08:27:02.331Z"
   },
   {
    "duration": 14,
    "start_time": "2023-06-02T08:27:02.343Z"
   },
   {
    "duration": 30,
    "start_time": "2023-06-02T08:27:02.358Z"
   },
   {
    "duration": 33,
    "start_time": "2023-06-02T08:27:02.391Z"
   },
   {
    "duration": 45,
    "start_time": "2023-06-02T08:27:02.426Z"
   },
   {
    "duration": 36,
    "start_time": "2023-06-02T08:27:02.474Z"
   },
   {
    "duration": 313,
    "start_time": "2023-06-02T08:27:02.512Z"
   },
   {
    "duration": 36,
    "start_time": "2023-06-02T08:27:02.826Z"
   },
   {
    "duration": 33,
    "start_time": "2023-06-02T08:27:02.863Z"
   },
   {
    "duration": 243,
    "start_time": "2023-06-02T08:27:02.898Z"
   },
   {
    "duration": 345,
    "start_time": "2023-06-02T08:27:03.142Z"
   },
   {
    "duration": 8,
    "start_time": "2023-06-02T08:27:03.489Z"
   },
   {
    "duration": 7,
    "start_time": "2023-06-02T08:27:03.499Z"
   },
   {
    "duration": 43,
    "start_time": "2023-06-02T08:27:03.507Z"
   },
   {
    "duration": 28,
    "start_time": "2023-06-02T08:27:03.552Z"
   },
   {
    "duration": 230,
    "start_time": "2023-06-02T08:27:03.582Z"
   },
   {
    "duration": 313,
    "start_time": "2023-06-02T08:27:03.814Z"
   },
   {
    "duration": 145,
    "start_time": "2023-06-02T08:27:04.129Z"
   },
   {
    "duration": 216,
    "start_time": "2023-06-02T08:27:04.276Z"
   },
   {
    "duration": 6,
    "start_time": "2023-06-02T08:27:04.494Z"
   },
   {
    "duration": 194,
    "start_time": "2023-06-02T08:27:04.501Z"
   },
   {
    "duration": 193,
    "start_time": "2023-06-02T08:27:04.697Z"
   },
   {
    "duration": 5,
    "start_time": "2023-06-02T08:27:04.892Z"
   },
   {
    "duration": 8,
    "start_time": "2023-06-02T08:27:04.899Z"
   },
   {
    "duration": 7,
    "start_time": "2023-06-02T08:27:04.908Z"
   },
   {
    "duration": 7,
    "start_time": "2023-06-02T08:27:04.917Z"
   },
   {
    "duration": 25,
    "start_time": "2023-06-02T08:27:04.926Z"
   },
   {
    "duration": 24,
    "start_time": "2023-06-02T08:27:04.953Z"
   },
   {
    "duration": 114,
    "start_time": "2023-06-02T08:27:04.979Z"
   },
   {
    "duration": 23,
    "start_time": "2023-06-02T08:27:05.095Z"
   },
   {
    "duration": 40,
    "start_time": "2023-06-02T08:27:05.120Z"
   }
  ],
  "kernelspec": {
   "display_name": "Python 3 (ipykernel)",
   "language": "python",
   "name": "python3"
  },
  "language_info": {
   "codemirror_mode": {
    "name": "ipython",
    "version": 3
   },
   "file_extension": ".py",
   "mimetype": "text/x-python",
   "name": "python",
   "nbconvert_exporter": "python",
   "pygments_lexer": "ipython3",
   "version": "3.9.5"
  },
  "toc": {
   "base_numbering": 1,
   "nav_menu": {},
   "number_sections": true,
   "sideBar": true,
   "skip_h1_title": false,
   "title_cell": "Table of Contents",
   "title_sidebar": "Contents",
   "toc_cell": false,
   "toc_position": {
    "height": "calc(100% - 180px)",
    "left": "10px",
    "top": "150px",
    "width": "335.625px"
   },
   "toc_section_display": true,
   "toc_window_display": false
  }
 },
 "nbformat": 4,
 "nbformat_minor": 5
}
